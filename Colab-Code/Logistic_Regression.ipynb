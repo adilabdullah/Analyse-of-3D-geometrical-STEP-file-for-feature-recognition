{
  "nbformat": 4,
  "nbformat_minor": 0,
  "metadata": {
    "colab": {
      "provenance": [],
      "gpuType": "T4"
    },
    "kernelspec": {
      "name": "python3",
      "display_name": "Python 3"
    },
    "language_info": {
      "name": "python"
    },
    "accelerator": "GPU"
  },
  "cells": [
    {
      "cell_type": "markdown",
      "source": [],
      "metadata": {
        "id": "1od_HsiJGBte"
      }
    },
    {
      "cell_type": "markdown",
      "source": [
        "# **Logistic Regression**"
      ],
      "metadata": {
        "id": "e5phv9CJGT3P"
      }
    },
    {
      "cell_type": "code",
      "source": [
        "data = 'Step_datasets_14.csv'\n",
        "\n",
        "df = pd.read_csv(data)"
      ],
      "metadata": {
        "id": "8kdbP2mEGaFR"
      },
      "execution_count": null,
      "outputs": []
    },
    {
      "cell_type": "code",
      "source": [
        "# view dimensions of dataset\n",
        "\n",
        "df.shape"
      ],
      "metadata": {
        "colab": {
          "base_uri": "https://localhost:8080/"
        },
        "id": "h3KecTF6GeWw",
        "outputId": "fb14a071-6238-4ff6-d470-32b712e373d2"
      },
      "execution_count": null,
      "outputs": [
        {
          "output_type": "execute_result",
          "data": {
            "text/plain": [
              "(2030, 11)"
            ]
          },
          "metadata": {},
          "execution_count": 51
        }
      ]
    },
    {
      "cell_type": "code",
      "source": [
        "print(df.columns.value_counts());"
      ],
      "metadata": {
        "colab": {
          "base_uri": "https://localhost:8080/"
        },
        "id": "Ardzx49SGg95",
        "outputId": "06dff07d-4ca1-4445-a865-533adb731b13"
      },
      "execution_count": null,
      "outputs": [
        {
          "output_type": "stream",
          "name": "stdout",
          "text": [
            "KEY           1\n",
            "ENTITY        1\n",
            "D0            1\n",
            "D1            1\n",
            "D2            1\n",
            "D3            1\n",
            "D4            1\n",
            "D5            1\n",
            "D6            1\n",
            "D7            1\n",
            "REFERENCES    1\n",
            "Name: count, dtype: int64\n"
          ]
        }
      ]
    },
    {
      "cell_type": "code",
      "source": [
        "df.drop(['ENTITY'], axis=1, inplace=True)"
      ],
      "metadata": {
        "id": "vx_UysoWGtoa"
      },
      "execution_count": null,
      "outputs": []
    },
    {
      "cell_type": "code",
      "source": [
        "# view summary of dataset\n",
        "\n",
        "df.info()"
      ],
      "metadata": {
        "colab": {
          "base_uri": "https://localhost:8080/"
        },
        "id": "gRvM1n7rGv16",
        "outputId": "4a13b26a-c7cc-4deb-9bfd-06962c0aa537"
      },
      "execution_count": null,
      "outputs": [
        {
          "output_type": "stream",
          "name": "stdout",
          "text": [
            "<class 'pandas.core.frame.DataFrame'>\n",
            "RangeIndex: 2030 entries, 0 to 2029\n",
            "Data columns (total 10 columns):\n",
            " #   Column      Non-Null Count  Dtype  \n",
            "---  ------      --------------  -----  \n",
            " 0   KEY         2030 non-null   int64  \n",
            " 1   D0          2030 non-null   float64\n",
            " 2   D1          2030 non-null   float64\n",
            " 3   D2          2030 non-null   float64\n",
            " 4   D3          2030 non-null   float64\n",
            " 5   D4          2030 non-null   float64\n",
            " 6   D5          2030 non-null   float64\n",
            " 7   D6          2030 non-null   float64\n",
            " 8   D7          2030 non-null   float64\n",
            " 9   REFERENCES  2030 non-null   object \n",
            "dtypes: float64(8), int64(1), object(1)\n",
            "memory usage: 158.7+ KB\n"
          ]
        }
      ]
    },
    {
      "cell_type": "code",
      "source": [
        "df.columns.isnull().sum()"
      ],
      "metadata": {
        "colab": {
          "base_uri": "https://localhost:8080/"
        },
        "id": "Gg4mpiu4Gz67",
        "outputId": "adab9c2e-8ac9-4904-9064-c914dbcfc8a6"
      },
      "execution_count": null,
      "outputs": [
        {
          "output_type": "execute_result",
          "data": {
            "text/plain": [
              "0"
            ]
          },
          "metadata": {},
          "execution_count": 56
        }
      ]
    },
    {
      "cell_type": "code",
      "source": [
        "df['KEY'].unique()"
      ],
      "metadata": {
        "colab": {
          "base_uri": "https://localhost:8080/"
        },
        "id": "LaRGe7nOHWeO",
        "outputId": "431538eb-acea-4a4a-b776-49f74ae8093d"
      },
      "execution_count": null,
      "outputs": [
        {
          "output_type": "execute_result",
          "data": {
            "text/plain": [
              "array([   1,    2,    3, ..., 2032, 2033, 2034])"
            ]
          },
          "metadata": {},
          "execution_count": 61
        }
      ]
    },
    {
      "cell_type": "code",
      "source": [
        "print(round(df['D0'].describe()),2)"
      ],
      "metadata": {
        "colab": {
          "base_uri": "https://localhost:8080/"
        },
        "id": "vUQazayiHp8i",
        "outputId": "23bf6869-9458-4a25-cc10-eb0dd52b08d8"
      },
      "execution_count": null,
      "outputs": [
        {
          "output_type": "stream",
          "name": "stdout",
          "text": [
            "count    2030.0\n",
            "mean       18.0\n",
            "std       151.0\n",
            "min         0.0\n",
            "25%         0.0\n",
            "50%         0.0\n",
            "75%         0.0\n",
            "max      2012.0\n",
            "Name: D0, dtype: float64 2\n"
          ]
        }
      ]
    },
    {
      "cell_type": "code",
      "source": [
        "# split X and y into training and testing sets\n",
        "\n",
        "from sklearn.model_selection import train_test_split\n",
        "\n",
        "X_train, X_test, y_train, y_test = train_test_split(X, y, test_size = 0.2, random_state = 0)"
      ],
      "metadata": {
        "id": "U7qMxKgzH9HT"
      },
      "execution_count": null,
      "outputs": []
    },
    {
      "cell_type": "code",
      "source": [
        "# check the shape of X_train and X_test\n",
        "\n",
        "X_train.shape, X_test.shape"
      ],
      "metadata": {
        "colab": {
          "base_uri": "https://localhost:8080/"
        },
        "id": "EHx2EgAUH-yr",
        "outputId": "146c9582-4738-43c5-90fe-b20d413c26a2"
      },
      "execution_count": null,
      "outputs": [
        {
          "output_type": "execute_result",
          "data": {
            "text/plain": [
              "((1624, 10), (406, 10))"
            ]
          },
          "metadata": {},
          "execution_count": 65
        }
      ]
    },
    {
      "cell_type": "code",
      "source": [
        "\n",
        "\n",
        "import category_encoders as ce\n",
        "\n",
        "encoder = ce.BinaryEncoder(cols=['D1'])\n",
        "\n",
        "X_train = encoder.fit_transform(X_train)\n",
        "\n",
        "X_test = encoder.transform(X_test)"
      ],
      "metadata": {
        "id": "n6q7HMKNIO71"
      },
      "execution_count": null,
      "outputs": []
    },
    {
      "cell_type": "code",
      "source": [
        "X_train.drop(['REFERENCES'], axis=1, inplace=True)\n",
        "\n",
        "X_test.drop(['REFERENCES'], axis=1, inplace=True)"
      ],
      "metadata": {
        "id": "zP5jSmKGIgC2"
      },
      "execution_count": null,
      "outputs": []
    },
    {
      "cell_type": "code",
      "source": [
        "from sklearn.preprocessing import MinMaxScaler\n",
        "\n",
        "scaler = MinMaxScaler()\n",
        "\n",
        "X_train = scaler.fit_transform(X_train)\n",
        "\n",
        "X_test = scaler.transform(X_test)"
      ],
      "metadata": {
        "id": "yyI6gN05IciP"
      },
      "execution_count": null,
      "outputs": []
    },
    {
      "cell_type": "code",
      "source": [
        "# train a logistic regression model on the training set\n",
        "from sklearn.linear_model import LogisticRegression\n",
        "\n",
        "\n",
        "# instantiate the model\n",
        "logreg = LogisticRegression(solver='liblinear', random_state=0)\n",
        "\n",
        "\n",
        "# fit the model\n",
        "logreg.fit(X_train, y_train)"
      ],
      "metadata": {
        "colab": {
          "base_uri": "https://localhost:8080/",
          "height": 74
        },
        "id": "f20mPwIoIqiP",
        "outputId": "f023da27-748c-4dd4-fc21-a77500fc9064"
      },
      "execution_count": null,
      "outputs": [
        {
          "output_type": "execute_result",
          "data": {
            "text/plain": [
              "LogisticRegression(random_state=0, solver='liblinear')"
            ],
            "text/html": [
              "<style>#sk-container-id-2 {color: black;background-color: white;}#sk-container-id-2 pre{padding: 0;}#sk-container-id-2 div.sk-toggleable {background-color: white;}#sk-container-id-2 label.sk-toggleable__label {cursor: pointer;display: block;width: 100%;margin-bottom: 0;padding: 0.3em;box-sizing: border-box;text-align: center;}#sk-container-id-2 label.sk-toggleable__label-arrow:before {content: \"▸\";float: left;margin-right: 0.25em;color: #696969;}#sk-container-id-2 label.sk-toggleable__label-arrow:hover:before {color: black;}#sk-container-id-2 div.sk-estimator:hover label.sk-toggleable__label-arrow:before {color: black;}#sk-container-id-2 div.sk-toggleable__content {max-height: 0;max-width: 0;overflow: hidden;text-align: left;background-color: #f0f8ff;}#sk-container-id-2 div.sk-toggleable__content pre {margin: 0.2em;color: black;border-radius: 0.25em;background-color: #f0f8ff;}#sk-container-id-2 input.sk-toggleable__control:checked~div.sk-toggleable__content {max-height: 200px;max-width: 100%;overflow: auto;}#sk-container-id-2 input.sk-toggleable__control:checked~label.sk-toggleable__label-arrow:before {content: \"▾\";}#sk-container-id-2 div.sk-estimator input.sk-toggleable__control:checked~label.sk-toggleable__label {background-color: #d4ebff;}#sk-container-id-2 div.sk-label input.sk-toggleable__control:checked~label.sk-toggleable__label {background-color: #d4ebff;}#sk-container-id-2 input.sk-hidden--visually {border: 0;clip: rect(1px 1px 1px 1px);clip: rect(1px, 1px, 1px, 1px);height: 1px;margin: -1px;overflow: hidden;padding: 0;position: absolute;width: 1px;}#sk-container-id-2 div.sk-estimator {font-family: monospace;background-color: #f0f8ff;border: 1px dotted black;border-radius: 0.25em;box-sizing: border-box;margin-bottom: 0.5em;}#sk-container-id-2 div.sk-estimator:hover {background-color: #d4ebff;}#sk-container-id-2 div.sk-parallel-item::after {content: \"\";width: 100%;border-bottom: 1px solid gray;flex-grow: 1;}#sk-container-id-2 div.sk-label:hover label.sk-toggleable__label {background-color: #d4ebff;}#sk-container-id-2 div.sk-serial::before {content: \"\";position: absolute;border-left: 1px solid gray;box-sizing: border-box;top: 0;bottom: 0;left: 50%;z-index: 0;}#sk-container-id-2 div.sk-serial {display: flex;flex-direction: column;align-items: center;background-color: white;padding-right: 0.2em;padding-left: 0.2em;position: relative;}#sk-container-id-2 div.sk-item {position: relative;z-index: 1;}#sk-container-id-2 div.sk-parallel {display: flex;align-items: stretch;justify-content: center;background-color: white;position: relative;}#sk-container-id-2 div.sk-item::before, #sk-container-id-2 div.sk-parallel-item::before {content: \"\";position: absolute;border-left: 1px solid gray;box-sizing: border-box;top: 0;bottom: 0;left: 50%;z-index: -1;}#sk-container-id-2 div.sk-parallel-item {display: flex;flex-direction: column;z-index: 1;position: relative;background-color: white;}#sk-container-id-2 div.sk-parallel-item:first-child::after {align-self: flex-end;width: 50%;}#sk-container-id-2 div.sk-parallel-item:last-child::after {align-self: flex-start;width: 50%;}#sk-container-id-2 div.sk-parallel-item:only-child::after {width: 0;}#sk-container-id-2 div.sk-dashed-wrapped {border: 1px dashed gray;margin: 0 0.4em 0.5em 0.4em;box-sizing: border-box;padding-bottom: 0.4em;background-color: white;}#sk-container-id-2 div.sk-label label {font-family: monospace;font-weight: bold;display: inline-block;line-height: 1.2em;}#sk-container-id-2 div.sk-label-container {text-align: center;}#sk-container-id-2 div.sk-container {/* jupyter's `normalize.less` sets `[hidden] { display: none; }` but bootstrap.min.css set `[hidden] { display: none !important; }` so we also need the `!important` here to be able to override the default hidden behavior on the sphinx rendered scikit-learn.org. See: https://github.com/scikit-learn/scikit-learn/issues/21755 */display: inline-block !important;position: relative;}#sk-container-id-2 div.sk-text-repr-fallback {display: none;}</style><div id=\"sk-container-id-2\" class=\"sk-top-container\"><div class=\"sk-text-repr-fallback\"><pre>LogisticRegression(random_state=0, solver=&#x27;liblinear&#x27;)</pre><b>In a Jupyter environment, please rerun this cell to show the HTML representation or trust the notebook. <br />On GitHub, the HTML representation is unable to render, please try loading this page with nbviewer.org.</b></div><div class=\"sk-container\" hidden><div class=\"sk-item\"><div class=\"sk-estimator sk-toggleable\"><input class=\"sk-toggleable__control sk-hidden--visually\" id=\"sk-estimator-id-2\" type=\"checkbox\" checked><label for=\"sk-estimator-id-2\" class=\"sk-toggleable__label sk-toggleable__label-arrow\">LogisticRegression</label><div class=\"sk-toggleable__content\"><pre>LogisticRegression(random_state=0, solver=&#x27;liblinear&#x27;)</pre></div></div></div></div></div>"
            ]
          },
          "metadata": {},
          "execution_count": 71
        }
      ]
    },
    {
      "cell_type": "code",
      "source": [
        "y_pred_test = logreg.predict(X_test)\n",
        "\n",
        "y_pred_test"
      ],
      "metadata": {
        "colab": {
          "base_uri": "https://localhost:8080/"
        },
        "id": "UJ-tY108Isto",
        "outputId": "68092aa1-50a1-4855-cb0c-196524f69ce5"
      },
      "execution_count": null,
      "outputs": [
        {
          "output_type": "execute_result",
          "data": {
            "text/plain": [
              "array(['CARTESIAN_POINT', 'DIRECTION', 'ORIENTED_EDGE', 'CARTESIAN_POINT',\n",
              "       'ORIENTED_EDGE', 'CARTESIAN_POINT', 'CARTESIAN_POINT',\n",
              "       'CARTESIAN_POINT', 'CARTESIAN_POINT', 'DIRECTION',\n",
              "       'CARTESIAN_POINT', 'DIRECTION', 'ORIENTED_EDGE', 'ORIENTED_EDGE',\n",
              "       'VECTOR', 'DIRECTION', 'DIRECTION', 'CARTESIAN_POINT',\n",
              "       'CARTESIAN_POINT', 'EDGE_CURVE', 'DIRECTION', 'DIRECTION',\n",
              "       'EDGE_CURVE', 'DIRECTION', 'CARTESIAN_POINT', 'DIRECTION',\n",
              "       'ORIENTED_EDGE', 'CARTESIAN_POINT', 'ORIENTED_EDGE',\n",
              "       'ORIENTED_EDGE', 'DIRECTION', 'DIRECTION', 'DIRECTION',\n",
              "       'DIRECTION', 'DIRECTION', 'DIRECTION', 'DIRECTION',\n",
              "       'CARTESIAN_POINT', 'DIRECTION', 'DIRECTION', 'EDGE_LOOP',\n",
              "       'DIRECTION', 'ORIENTED_EDGE', 'CARTESIAN_POINT', 'CARTESIAN_POINT',\n",
              "       'ORIENTED_EDGE', 'ORIENTED_EDGE', 'CARTESIAN_POINT', 'EDGE_LOOP',\n",
              "       'DIRECTION', 'CARTESIAN_POINT', 'ORIENTED_EDGE', 'ORIENTED_EDGE',\n",
              "       'DIRECTION', 'CARTESIAN_POINT', 'DIRECTION', 'DIRECTION',\n",
              "       'DIRECTION', 'DIRECTION', 'AXIS2_PLACEMENT_3D', 'ORIENTED_EDGE',\n",
              "       'DIRECTION', 'DIRECTION', 'DIRECTION', 'CARTESIAN_POINT',\n",
              "       'DIRECTION', 'DIRECTION', 'CARTESIAN_POINT', 'ORIENTED_EDGE',\n",
              "       'DIRECTION', 'DIRECTION', 'ORIENTED_EDGE', 'ORIENTED_EDGE',\n",
              "       'CARTESIAN_POINT', 'DIRECTION', 'CARTESIAN_POINT',\n",
              "       'CARTESIAN_POINT', 'DIRECTION', 'DIRECTION', 'ORIENTED_EDGE',\n",
              "       'DIRECTION', 'EDGE_LOOP', 'DIRECTION', 'EDGE_CURVE',\n",
              "       'ORIENTED_EDGE', 'ORIENTED_EDGE', 'ORIENTED_EDGE', 'DIRECTION',\n",
              "       'VECTOR', 'DIRECTION', 'DIRECTION', 'DIRECTION', 'ORIENTED_EDGE',\n",
              "       'CARTESIAN_POINT', 'DIRECTION', 'AXIS2_PLACEMENT_3D',\n",
              "       'CARTESIAN_POINT', 'ORIENTED_EDGE', 'DIRECTION', 'ORIENTED_EDGE',\n",
              "       'CARTESIAN_POINT', 'ORIENTED_EDGE', 'DIRECTION', 'CARTESIAN_POINT',\n",
              "       'B_SPLINE_CURVE_WITH_KNOTS', 'DIRECTION', 'ORIENTED_EDGE',\n",
              "       'CARTESIAN_POINT', 'ORIENTED_EDGE', 'DIRECTION', 'DIRECTION',\n",
              "       'DIRECTION', 'EDGE_LOOP', 'EDGE_CURVE', 'DIRECTION', 'VECTOR',\n",
              "       'EDGE_CURVE', 'ORIENTED_EDGE', 'CARTESIAN_POINT', 'DIRECTION',\n",
              "       'CARTESIAN_POINT', 'DIRECTION', 'DIRECTION', 'ORIENTED_EDGE',\n",
              "       'AXIS2_PLACEMENT_3D', 'EDGE_LOOP', 'ORIENTED_EDGE', 'DIRECTION',\n",
              "       'DIRECTION', 'DIRECTION', 'CARTESIAN_POINT', 'CARTESIAN_POINT',\n",
              "       'DIRECTION', 'DIRECTION', 'DIRECTION', 'ORIENTED_EDGE',\n",
              "       'DIRECTION', 'ORIENTED_EDGE', 'ORIENTED_EDGE', 'DIRECTION',\n",
              "       'ORIENTED_EDGE', 'DIRECTION', 'VECTOR', 'DIRECTION', 'DIRECTION',\n",
              "       'DIRECTION', 'DIRECTION', 'ORIENTED_EDGE', 'ORIENTED_EDGE',\n",
              "       'DIRECTION', 'CARTESIAN_POINT', 'ORIENTED_EDGE', 'CARTESIAN_POINT',\n",
              "       'CARTESIAN_POINT', 'CARTESIAN_POINT', 'DIRECTION', 'DIRECTION',\n",
              "       'DIRECTION', 'DIRECTION', 'CARTESIAN_POINT', 'DIRECTION',\n",
              "       'ORIENTED_EDGE', 'ORIENTED_EDGE', 'DIRECTION', 'ORIENTED_EDGE',\n",
              "       'DIRECTION', 'AXIS2_PLACEMENT_3D', 'DIRECTION', 'CARTESIAN_POINT',\n",
              "       'DIRECTION', 'DIRECTION', 'ORIENTED_EDGE', 'ORIENTED_EDGE',\n",
              "       'DIRECTION', 'DIRECTION', 'CARTESIAN_POINT', 'DIRECTION',\n",
              "       'DIRECTION', 'DIRECTION', 'CARTESIAN_POINT', 'DIRECTION',\n",
              "       'DIRECTION', 'ORIENTED_EDGE', 'EDGE_CURVE', 'CARTESIAN_POINT',\n",
              "       'EDGE_CURVE', 'DIRECTION', 'ORIENTED_EDGE', 'DIRECTION',\n",
              "       'ORIENTED_EDGE', 'EDGE_LOOP', 'DIRECTION', 'CARTESIAN_POINT',\n",
              "       'DIRECTION', 'ORIENTED_EDGE', 'ORIENTED_EDGE', 'DIRECTION',\n",
              "       'CARTESIAN_POINT', 'ORIENTED_EDGE', 'CARTESIAN_POINT',\n",
              "       'CARTESIAN_POINT', 'DIRECTION', 'AXIS2_PLACEMENT_3D', 'DIRECTION',\n",
              "       'VECTOR', 'ORIENTED_EDGE', 'DIRECTION', 'CARTESIAN_POINT',\n",
              "       'ORIENTED_EDGE', 'DIRECTION', 'DIRECTION', 'DIRECTION',\n",
              "       'EDGE_LOOP', 'ORIENTED_EDGE', 'DIRECTION', 'ORIENTED_EDGE',\n",
              "       'DIRECTION', 'CARTESIAN_POINT', 'ORIENTED_EDGE', 'DIRECTION',\n",
              "       'ORIENTED_EDGE', 'DIRECTION', 'DIRECTION', 'ORIENTED_EDGE',\n",
              "       'EDGE_CURVE', 'DIRECTION', 'EDGE_CURVE', 'ORIENTED_EDGE',\n",
              "       'ORIENTED_EDGE', 'ORIENTED_EDGE', 'CARTESIAN_POINT', 'DIRECTION',\n",
              "       'DIRECTION', 'CARTESIAN_POINT', 'CARTESIAN_POINT', 'ORIENTED_EDGE',\n",
              "       'ORIENTED_EDGE', 'DIRECTION', 'CARTESIAN_POINT', 'ORIENTED_EDGE',\n",
              "       'DIRECTION', 'DIRECTION', 'DIRECTION', 'CARTESIAN_POINT',\n",
              "       'DIRECTION', 'ORIENTED_EDGE', 'DIRECTION', 'CARTESIAN_POINT',\n",
              "       'CARTESIAN_POINT', 'ORIENTED_EDGE', 'DIRECTION', 'DIRECTION',\n",
              "       'EDGE_CURVE', 'DIRECTION', 'DIRECTION', 'ORIENTED_EDGE', 'VECTOR',\n",
              "       'DIRECTION', 'DIRECTION', 'DIRECTION', 'ORIENTED_EDGE',\n",
              "       'CARTESIAN_POINT', 'ORIENTED_EDGE', 'DIRECTION', 'CARTESIAN_POINT',\n",
              "       'CARTESIAN_POINT', 'DIRECTION', 'ORIENTED_EDGE', 'DIRECTION',\n",
              "       'DIRECTION', 'CARTESIAN_POINT', 'CARTESIAN_POINT', 'DIRECTION',\n",
              "       'ORIENTED_EDGE', 'ORIENTED_EDGE', 'CARTESIAN_POINT', 'DIRECTION',\n",
              "       'DIRECTION', 'EDGE_LOOP', 'DIRECTION', 'DIRECTION', 'DIRECTION',\n",
              "       'ORIENTED_EDGE', 'EDGE_LOOP', 'DIRECTION', 'DIRECTION',\n",
              "       'CARTESIAN_POINT', 'CARTESIAN_POINT', 'CARTESIAN_POINT',\n",
              "       'CARTESIAN_POINT', 'CARTESIAN_POINT', 'ORIENTED_EDGE',\n",
              "       'ORIENTED_EDGE', 'ORIENTED_EDGE', 'EDGE_CURVE', 'ORIENTED_EDGE',\n",
              "       'CARTESIAN_POINT', 'CARTESIAN_POINT', 'DIRECTION', 'DIRECTION',\n",
              "       'ORIENTED_EDGE', 'CARTESIAN_POINT', 'DIRECTION', 'ORIENTED_EDGE',\n",
              "       'ORIENTED_EDGE', 'DIRECTION', 'CARTESIAN_POINT', 'DIRECTION',\n",
              "       'CARTESIAN_POINT', 'DIRECTION', 'DIRECTION', 'CARTESIAN_POINT',\n",
              "       'ORIENTED_EDGE', 'CARTESIAN_POINT', 'CARTESIAN_POINT', 'EDGE_LOOP',\n",
              "       'DIRECTION', 'DIRECTION', 'DIRECTION', 'DIRECTION',\n",
              "       'CARTESIAN_POINT', 'DIRECTION', 'DIRECTION', 'ORIENTED_EDGE',\n",
              "       'CARTESIAN_POINT', 'CARTESIAN_POINT', 'ORIENTED_EDGE',\n",
              "       'CARTESIAN_POINT', 'DIRECTION', 'ORIENTED_EDGE', 'DIRECTION',\n",
              "       'CARTESIAN_POINT', 'DIRECTION', 'DIRECTION', 'ORIENTED_EDGE',\n",
              "       'VECTOR', 'CARTESIAN_POINT', 'ORIENTED_EDGE', 'ORIENTED_EDGE',\n",
              "       'ORIENTED_EDGE', 'DIRECTION', 'CARTESIAN_POINT', 'DIRECTION',\n",
              "       'ORIENTED_EDGE', 'DIRECTION', 'CARTESIAN_POINT', 'CARTESIAN_POINT',\n",
              "       'VECTOR', 'DIRECTION', 'DIRECTION', 'VECTOR', 'ORIENTED_EDGE',\n",
              "       'ORIENTED_EDGE', 'CARTESIAN_POINT', 'DIRECTION', 'DIRECTION',\n",
              "       'DIRECTION', 'DIRECTION', 'AXIS2_PLACEMENT_3D', 'CARTESIAN_POINT',\n",
              "       'DIRECTION', 'CARTESIAN_POINT', 'DIRECTION', 'DIRECTION',\n",
              "       'AXIS2_PLACEMENT_3D', 'DIRECTION', 'CARTESIAN_POINT', 'DIRECTION',\n",
              "       'CARTESIAN_POINT', 'DIRECTION', 'CARTESIAN_POINT', 'DIRECTION',\n",
              "       'CARTESIAN_POINT', 'EDGE_LOOP', 'ORIENTED_EDGE', 'ORIENTED_EDGE',\n",
              "       'DIRECTION', 'ORIENTED_EDGE', 'DIRECTION', 'ORIENTED_EDGE',\n",
              "       'DIRECTION', 'DIRECTION', 'CARTESIAN_POINT', 'ORIENTED_EDGE',\n",
              "       'DIRECTION', 'CARTESIAN_POINT', 'CARTESIAN_POINT', 'DIRECTION',\n",
              "       'DIRECTION', 'DIRECTION', 'CARTESIAN_POINT', 'CARTESIAN_POINT',\n",
              "       'ORIENTED_EDGE', 'AXIS2_PLACEMENT_3D', 'EDGE_LOOP', 'DIRECTION',\n",
              "       'ORIENTED_EDGE', 'ORIENTED_EDGE', 'DIRECTION', 'DIRECTION',\n",
              "       'DIRECTION', 'CARTESIAN_POINT', 'EDGE_CURVE', 'ORIENTED_EDGE',\n",
              "       'DIRECTION', 'DIRECTION'], dtype=object)"
            ]
          },
          "metadata": {},
          "execution_count": 72
        }
      ]
    },
    {
      "cell_type": "code",
      "source": [
        "# probability of getting output as 0 - no rain\n",
        "\n",
        "logreg.predict_proba(X_test)[:,0]"
      ],
      "metadata": {
        "colab": {
          "base_uri": "https://localhost:8080/"
        },
        "id": "3hXPixTRIvq4",
        "outputId": "5906261f-4418-4f81-d2fc-d5d8d348ed8f"
      },
      "execution_count": null,
      "outputs": [
        {
          "output_type": "execute_result",
          "data": {
            "text/plain": [
              "array([0.01018297, 0.01283202, 0.01198089, 0.00654235, 0.00124244,\n",
              "       0.00091403, 0.00442787, 0.00692202, 0.01047313, 0.00336178,\n",
              "       0.00989296, 0.00085911, 0.00118501, 0.0014546 , 0.00874834,\n",
              "       0.01852903, 0.01258676, 0.00582116, 0.00079283, 0.00014608,\n",
              "       0.01330223, 0.01270549, 0.00039854, 0.01715764, 0.00043606,\n",
              "       0.01300513, 0.00793897, 0.00370636, 0.01165083, 0.01180424,\n",
              "       0.01800944, 0.01205627, 0.01363846, 0.00284954, 0.01326319,\n",
              "       0.00226263, 0.01287357, 0.00166889, 0.00221269, 0.01210272,\n",
              "       0.00422274, 0.00069369, 0.00842247, 0.01078975, 0.00079094,\n",
              "       0.00116829, 0.00114969, 0.00838064, 0.0152858 , 0.00330987,\n",
              "       0.0006639 , 0.00106137, 0.0010451 , 0.00193631, 0.00072164,\n",
              "       0.01372999, 0.0021311 , 0.00208835, 0.01266117, 0.00491536,\n",
              "       0.01169104, 0.01208726, 0.01429824, 0.01657354, 0.00094846,\n",
              "       0.01201478, 0.01195221, 0.00955507, 0.0011871 , 0.002156  ,\n",
              "       0.01369009, 0.00135926, 0.00108361, 0.00394534, 0.01704679,\n",
              "       0.00914023, 0.00575115, 0.01167679, 0.00241442, 0.00112494,\n",
              "       0.01320622, 0.0042123 , 0.0117356 , 0.0026015 , 0.00990832,\n",
              "       0.01160971, 0.00132442, 0.00241188, 0.01209456, 0.00821285,\n",
              "       0.01368062, 0.0112359 , 0.00115538, 0.00162954, 0.01360093,\n",
              "       0.00495962, 0.00078145, 0.00110492, 0.00211875, 0.00778082,\n",
              "       0.00164016, 0.01013847, 0.01497325, 0.00911177, 0.00163396,\n",
              "       0.00113298, 0.0012035 , 0.00374588, 0.00107323, 0.01823077,\n",
              "       0.00317752, 0.00152116, 0.01402639, 0.00039977, 0.00208242,\n",
              "       0.01293381, 0.0003474 , 0.01142405, 0.00086184, 0.00444668,\n",
              "       0.00400214, 0.01502151, 0.00174603, 0.00143277, 0.00485853,\n",
              "       0.0138449 , 0.00124737, 0.00161426, 0.00153773, 0.01357816,\n",
              "       0.00197589, 0.00314451, 0.00095594, 0.00210633, 0.01347339,\n",
              "       0.00131501, 0.00134377, 0.0013166 , 0.00120779, 0.01501427,\n",
              "       0.0011656 , 0.00229035, 0.00871299, 0.01869379, 0.00370927,\n",
              "       0.0131934 , 0.01852643, 0.00773569, 0.00942849, 0.01376606,\n",
              "       0.00570028, 0.00823187, 0.00577639, 0.0041395 , 0.0058776 ,\n",
              "       0.00320832, 0.01176756, 0.01288745, 0.00206361, 0.00655178,\n",
              "       0.00332158, 0.00134826, 0.01826153, 0.01262408, 0.00127257,\n",
              "       0.01528154, 0.00502467, 0.0032484 , 0.00455285, 0.01345357,\n",
              "       0.00225741, 0.00112699, 0.00104706, 0.01841628, 0.01134592,\n",
              "       0.00781438, 0.01452154, 0.00188665, 0.00321381, 0.00954004,\n",
              "       0.01167143, 0.01366442, 0.0014141 , 0.00152375, 0.00137796,\n",
              "       0.00021255, 0.01170356, 0.00131044, 0.00366235, 0.00117502,\n",
              "       0.01388289, 0.01289651, 0.00944278, 0.00204627, 0.00111793,\n",
              "       0.00111796, 0.01560629, 0.00480569, 0.00117319, 0.0031362 ,\n",
              "       0.00378809, 0.01203036, 0.00490615, 0.01206144, 0.01322809,\n",
              "       0.00134745, 0.01330392, 0.00078462, 0.00108454, 0.00346277,\n",
              "       0.01163384, 0.01178882, 0.0134636 , 0.00126633, 0.00223793,\n",
              "       0.00124817, 0.01184708, 0.00622835, 0.00127783, 0.01523634,\n",
              "       0.00126261, 0.00196986, 0.01165533, 0.00122039, 0.00096795,\n",
              "       0.0126769 , 0.00016757, 0.00660454, 0.00110036, 0.00132693,\n",
              "       0.00481029, 0.00345517, 0.0024198 , 0.00063451, 0.00959962,\n",
              "       0.00108019, 0.00110152, 0.00203193, 0.00588613, 0.00113549,\n",
              "       0.00081861, 0.00067546, 0.0025323 , 0.00265956, 0.01288663,\n",
              "       0.00877972, 0.0156218 , 0.00895068, 0.00033394, 0.00807255,\n",
              "       0.00254723, 0.01205109, 0.0002307 , 0.00323882, 0.00239473,\n",
              "       0.0115808 , 0.01324983, 0.01511265, 0.0165146 , 0.00328706,\n",
              "       0.0012541 , 0.00092659, 0.00122478, 0.01365881, 0.00428801,\n",
              "       0.00669534, 0.00330816, 0.00127591, 0.01549227, 0.00326767,\n",
              "       0.00659015, 0.00093845, 0.0142349 , 0.01037484, 0.00108022,\n",
              "       0.0090699 , 0.00221097, 0.00258063, 0.01468275, 0.01505986,\n",
              "       0.01196789, 0.0103403 , 0.00773947, 0.01328532, 0.01175159,\n",
              "       0.01384831, 0.00192271, 0.00264654, 0.00106472, 0.0093201 ,\n",
              "       0.00736143, 0.00115932, 0.00105472, 0.00127189, 0.00034138,\n",
              "       0.00114566, 0.00137412, 0.00232898, 0.00095728, 0.00330049,\n",
              "       0.00133   , 0.00191437, 0.0129958 , 0.00143889, 0.00144587,\n",
              "       0.01258028, 0.00876486, 0.00343226, 0.00071685, 0.01452158,\n",
              "       0.0155752 , 0.00911768, 0.00118054, 0.00906911, 0.00578228,\n",
              "       0.0149202 , 0.01322325, 0.01025632, 0.00240367, 0.01296801,\n",
              "       0.00042449, 0.01420794, 0.01156375, 0.00107686, 0.00052889,\n",
              "       0.00576097, 0.00123756, 0.00256623, 0.01132397, 0.00126929,\n",
              "       0.00340374, 0.00091011, 0.01202517, 0.01183651, 0.00102681,\n",
              "       0.01331268, 0.00410783, 0.00138013, 0.00146777, 0.00110982,\n",
              "       0.013631  , 0.00444762, 0.00250115, 0.00147069, 0.01406546,\n",
              "       0.0014518 , 0.00323876, 0.01205449, 0.01293753, 0.01027032,\n",
              "       0.008929  , 0.00129519, 0.00791501, 0.00736638, 0.00249205,\n",
              "       0.01589712, 0.01370537, 0.00314451, 0.00637574, 0.0014911 ,\n",
              "       0.01127999, 0.00176913, 0.01342563, 0.01198354, 0.00487384,\n",
              "       0.01155834, 0.00722543, 0.0117782 , 0.0012421 , 0.01259202,\n",
              "       0.00093781, 0.01325708, 0.00387551, 0.01451854, 0.00105234,\n",
              "       0.00119802, 0.01047998, 0.00107607, 0.01169821, 0.00122578,\n",
              "       0.0032234 , 0.01371387, 0.0093435 , 0.00105697, 0.01372756,\n",
              "       0.00505496, 0.00419777, 0.01528716, 0.00264842, 0.00112366,\n",
              "       0.00731697, 0.00556728, 0.00662933, 0.00262929, 0.00417639,\n",
              "       0.01843008, 0.00137903, 0.00139831, 0.00134265, 0.00229756,\n",
              "       0.01346548, 0.00384829, 0.00192235, 0.00136756, 0.01263305,\n",
              "       0.01068598])"
            ]
          },
          "metadata": {},
          "execution_count": 73
        }
      ]
    },
    {
      "cell_type": "code",
      "source": [
        "# probability of getting output as 1 - rain\n",
        "\n",
        "logreg.predict_proba(X_test)[:,1]"
      ],
      "metadata": {
        "colab": {
          "base_uri": "https://localhost:8080/"
        },
        "id": "GkriIGucIxeo",
        "outputId": "3829a437-25ed-46a9-9e48-3f7102753796"
      },
      "execution_count": null,
      "outputs": [
        {
          "output_type": "execute_result",
          "data": {
            "text/plain": [
              "array([0.00447398, 0.02281532, 0.00485146, 0.01913972, 0.00111404,\n",
              "       0.03215378, 0.01026397, 0.03473864, 0.01178467, 0.01966467,\n",
              "       0.00423102, 0.01367352, 0.00100493, 0.00154301, 0.00318   ,\n",
              "       0.03690986, 0.00680655, 0.02103126, 0.02761749, 0.01231539,\n",
              "       0.02312255, 0.02191846, 0.01272197, 0.02655815, 0.01161672,\n",
              "       0.02401787, 0.00249089, 0.00685205, 0.00474627, 0.00482249,\n",
              "       0.03014489, 0.01830386, 0.02930182, 0.01259697, 0.02589114,\n",
              "       0.00713221, 0.0230964 , 0.00717197, 0.00677095, 0.0185442 ,\n",
              "       0.00066239, 0.00834454, 0.00284553, 0.01287344, 0.01945257,\n",
              "       0.00096046, 0.00095559, 0.00389013, 0.01524037, 0.01878478,\n",
              "       0.01581969, 0.00081072, 0.00078493, 0.00496109, 0.01904201,\n",
              "       0.03006329, 0.00620408, 0.00590556, 0.02107219, 0.04889737,\n",
              "       0.00475943, 0.01846382, 0.02857347, 0.02682823, 0.00948852,\n",
              "       0.01809219, 0.01777813, 0.02271329, 0.00099576, 0.00636337,\n",
              "       0.02969642, 0.00133526, 0.00082954, 0.00790555, 0.02666061,\n",
              "       0.00798303, 0.01299859, 0.01646472, 0.00833401, 0.00090958,\n",
              "       0.02552831, 0.00065713, 0.01673615, 0.00755229, 0.00358659,\n",
              "       0.00474285, 0.00126502, 0.01107016, 0.00638556, 0.00387035,\n",
              "       0.02596636, 0.01457002, 0.00093911, 0.0067869 , 0.0289395 ,\n",
              "       0.05000099, 0.02672638, 0.00087549, 0.02822785, 0.00239747,\n",
              "       0.00694182, 0.00347152, 0.01303396, 0.00791608, 0.04976899,\n",
              "       0.02756417, 0.00103104, 0.00688893, 0.00081204, 0.0327233 ,\n",
              "       0.01683258, 0.01225988, 0.01183132, 0.01173775, 0.00587839,\n",
              "       0.02121719, 0.00913383, 0.00468859, 0.03219435, 0.01836314,\n",
              "       0.00807831, 0.01279973, 0.01709627, 0.0014858 , 0.04636093,\n",
              "       0.01162412, 0.0011263 , 0.0141199 , 0.01257705, 0.02872334,\n",
              "       0.02502462, 0.02103929, 0.01773403, 0.02777851, 0.0277622 ,\n",
              "       0.00125078, 0.00920693, 0.00124765, 0.00105804, 0.01249606,\n",
              "       0.00097774, 0.00734105, 0.00316974, 0.03972633, 0.0261401 ,\n",
              "       0.025428  , 0.03686881, 0.00238196, 0.00299478, 0.03047138,\n",
              "       0.01279971, 0.00268074, 0.02085336, 0.00578803, 0.01374865,\n",
              "       0.01727504, 0.01688565, 0.02232841, 0.0057449 , 0.02834314,\n",
              "       0.01901392, 0.00130229, 0.02484043, 0.02140814, 0.0011554 ,\n",
              "       0.0143577 , 0.01444746, 0.01783671, 0.04179241, 0.02758632,\n",
              "       0.00709316, 0.00091396, 0.00077493, 0.03521086, 0.015021  ,\n",
              "       0.00522177, 0.02707334, 0.0046573 , 0.01731651, 0.00901257,\n",
              "       0.01644021, 0.02955695, 0.00143897, 0.01219278, 0.01125468,\n",
              "       0.01120572, 0.01658767, 0.00124474, 0.03212001, 0.00099262,\n",
              "       0.01194112, 0.02325357, 0.00872362, 0.00560373, 0.00089381,\n",
              "       0.00088589, 0.01460811, 0.01280049, 0.00097915, 0.02089714,\n",
              "       0.00725542, 0.01817135, 0.00524668, 0.01833045, 0.02288756,\n",
              "       0.00132671, 0.0262544 , 0.02697192, 0.00082966, 0.02133089,\n",
              "       0.01626946, 0.01698588, 0.01093926, 0.00113796, 0.00483014,\n",
              "       0.00113366, 0.01726386, 0.02451067, 0.00116678, 0.01398878,\n",
              "       0.00113488, 0.00515975, 0.01636686, 0.00106691, 0.02628849,\n",
              "       0.02180462, 0.01764954, 0.00169471, 0.00085506, 0.00128065,\n",
              "       0.0125338 , 0.02119705, 0.00837913, 0.01447184, 0.00915515,\n",
              "       0.00082521, 0.00085149, 0.00554198, 0.02134577, 0.00093111,\n",
              "       0.01219644, 0.00786304, 0.00936478, 0.00822529, 0.02107376,\n",
              "       0.00292762, 0.01466901, 0.00707348, 0.00694821, 0.00258531,\n",
              "       0.04138124, 0.0182773 , 0.01638893, 0.01768761, 0.00817042,\n",
              "       0.00472965, 0.02135218, 0.01282036, 0.02676983, 0.01847024,\n",
              "       0.00111579, 0.01389573, 0.00107797, 0.02942958, 0.00973778,\n",
              "       0.02941716, 0.01880095, 0.00115831, 0.01430861, 0.01812397,\n",
              "       0.02901426, 0.01053751, 0.02364774, 0.00377393, 0.00083259,\n",
              "       0.0072602 , 0.0067585 , 0.00983296, 0.01385441, 0.03139644,\n",
              "       0.01785626, 0.00391444, 0.00235264, 0.01040688, 0.01681077,\n",
              "       0.03040318, 0.0234804 , 0.01389306, 0.00969727, 0.00363716,\n",
              "       0.00436495, 0.00096271, 0.00078329, 0.00115198, 0.00684077,\n",
              "       0.0009307 , 0.01118772, 0.00633111, 0.01779568, 0.01868014,\n",
              "       0.00127957, 0.02312109, 0.02323144, 0.00152767, 0.00152489,\n",
              "       0.00679576, 0.0038245 , 0.02080469, 0.01875733, 0.02771014,\n",
              "       0.01448692, 0.00355013, 0.00100316, 0.00783797, 0.0202124 ,\n",
              "       0.01196849, 0.02566244, 0.00383284, 0.00824442, 0.02368679,\n",
              "       0.01090757, 0.02307481, 0.01595599, 0.00081881, 0.01654636,\n",
              "       0.01999233, 0.00110618, 0.0149549 , 0.01492993, 0.00114241,\n",
              "       0.02031114, 0.03715041, 0.01814493, 0.01721306, 0.00074265,\n",
              "       0.02238326, 0.00586928, 0.00138801, 0.00159109, 0.00088271,\n",
              "       0.02922915, 0.0105778 , 0.00908256, 0.0015942 , 0.02930942,\n",
              "       0.01227645, 0.01328253, 0.00634256, 0.02353826, 0.00384634,\n",
              "       0.00333217, 0.00119964, 0.00247306, 0.00442413, 0.00900189,\n",
              "       0.03488078, 0.02883286, 0.01632255, 0.00821736, 0.01948063,\n",
              "       0.0147491 , 0.00681954, 0.0273412 , 0.01793464, 0.04684635,\n",
              "       0.01593207, 0.00412248, 0.01693571, 0.02674473, 0.02131291,\n",
              "       0.03925641, 0.02593204, 0.02726698, 0.01350649, 0.00078539,\n",
              "       0.0010327 , 0.00405359, 0.00082483, 0.01656303, 0.00108631,\n",
              "       0.01746303, 0.02997922, 0.00392205, 0.00080272, 0.02898529,\n",
              "       0.00187714, 0.00608719, 0.01423376, 0.00954555, 0.02695177,\n",
              "       0.00413603, 0.01195229, 0.04695058, 0.00914443, 0.00064527,\n",
              "       0.03541038, 0.00137596, 0.00142832, 0.00918953, 0.00739749,\n",
              "       0.02769177, 0.00728951, 0.0107641 , 0.00136913, 0.02034237,\n",
              "       0.00905022])"
            ]
          },
          "metadata": {},
          "execution_count": 74
        }
      ]
    },
    {
      "cell_type": "code",
      "source": [
        "from sklearn.metrics import accuracy_score\n",
        "\n",
        "print('Model accuracy score: {0:0.4f}'. format(accuracy_score(y_test, y_pred_test)))"
      ],
      "metadata": {
        "colab": {
          "base_uri": "https://localhost:8080/"
        },
        "id": "5jWZ5hSPIzc5",
        "outputId": "ac0dcc81-def9-489d-add4-491a4ec574ba"
      },
      "execution_count": null,
      "outputs": [
        {
          "output_type": "stream",
          "name": "stdout",
          "text": [
            "Model accuracy score: 0.5443\n"
          ]
        }
      ]
    },
    {
      "cell_type": "code",
      "source": [
        "y_pred_train = logreg.predict(X_train)\n",
        "\n",
        "y_pred_train"
      ],
      "metadata": {
        "colab": {
          "base_uri": "https://localhost:8080/"
        },
        "id": "zw_GmDZEI1UJ",
        "outputId": "f820d984-2ab2-4fad-ac5c-dfeaa5267451"
      },
      "execution_count": null,
      "outputs": [
        {
          "output_type": "execute_result",
          "data": {
            "text/plain": [
              "array(['CARTESIAN_POINT', 'CARTESIAN_POINT', 'AXIS2_PLACEMENT_3D', ...,\n",
              "       'VECTOR', 'VERTEX_POINT', 'DIRECTION'], dtype=object)"
            ]
          },
          "metadata": {},
          "execution_count": 76
        }
      ]
    },
    {
      "cell_type": "code",
      "source": [
        "print('Training-set accuracy score: {0:0.4f}'. format(accuracy_score(y_train, y_pred_train)))\n"
      ],
      "metadata": {
        "colab": {
          "base_uri": "https://localhost:8080/"
        },
        "id": "Tau3Tf9qJJoD",
        "outputId": "8f54a4b2-e34e-4127-dd1e-467246f0391b"
      },
      "execution_count": null,
      "outputs": [
        {
          "output_type": "stream",
          "name": "stdout",
          "text": [
            "Training-set accuracy score: 0.6743\n"
          ]
        }
      ]
    },
    {
      "cell_type": "code",
      "source": [
        "# print the scores on training and test set\n",
        "\n",
        "print('Training set score: {:.4f}'.format(logreg.score(X_train, y_train)))\n",
        "\n",
        "print('Test set score: {:.4f}'.format(logreg.score(X_test, y_test)))"
      ],
      "metadata": {
        "colab": {
          "base_uri": "https://localhost:8080/"
        },
        "id": "3s0zk5IuJXQN",
        "outputId": "d5ca297f-57f3-42b9-bc8f-ff9825fcaa01"
      },
      "execution_count": null,
      "outputs": [
        {
          "output_type": "stream",
          "name": "stdout",
          "text": [
            "Training set score: 0.6743\n",
            "Test set score: 0.5443\n"
          ]
        }
      ]
    },
    {
      "cell_type": "code",
      "source": [
        "# fit the Logsitic Regression model with C=100\n",
        "\n",
        "# instantiate the model\n",
        "logreg100 = LogisticRegression(C=100, solver='liblinear', random_state=0)\n",
        "\n",
        "\n",
        "# fit the model\n",
        "logreg100.fit(X_train, y_train)"
      ],
      "metadata": {
        "colab": {
          "base_uri": "https://localhost:8080/",
          "height": 74
        },
        "id": "yTSayFBeJcc2",
        "outputId": "9d3c54d2-f64c-44c1-f199-976f0de6ea03"
      },
      "execution_count": null,
      "outputs": [
        {
          "output_type": "execute_result",
          "data": {
            "text/plain": [
              "LogisticRegression(C=100, random_state=0, solver='liblinear')"
            ],
            "text/html": [
              "<style>#sk-container-id-3 {color: black;background-color: white;}#sk-container-id-3 pre{padding: 0;}#sk-container-id-3 div.sk-toggleable {background-color: white;}#sk-container-id-3 label.sk-toggleable__label {cursor: pointer;display: block;width: 100%;margin-bottom: 0;padding: 0.3em;box-sizing: border-box;text-align: center;}#sk-container-id-3 label.sk-toggleable__label-arrow:before {content: \"▸\";float: left;margin-right: 0.25em;color: #696969;}#sk-container-id-3 label.sk-toggleable__label-arrow:hover:before {color: black;}#sk-container-id-3 div.sk-estimator:hover label.sk-toggleable__label-arrow:before {color: black;}#sk-container-id-3 div.sk-toggleable__content {max-height: 0;max-width: 0;overflow: hidden;text-align: left;background-color: #f0f8ff;}#sk-container-id-3 div.sk-toggleable__content pre {margin: 0.2em;color: black;border-radius: 0.25em;background-color: #f0f8ff;}#sk-container-id-3 input.sk-toggleable__control:checked~div.sk-toggleable__content {max-height: 200px;max-width: 100%;overflow: auto;}#sk-container-id-3 input.sk-toggleable__control:checked~label.sk-toggleable__label-arrow:before {content: \"▾\";}#sk-container-id-3 div.sk-estimator input.sk-toggleable__control:checked~label.sk-toggleable__label {background-color: #d4ebff;}#sk-container-id-3 div.sk-label input.sk-toggleable__control:checked~label.sk-toggleable__label {background-color: #d4ebff;}#sk-container-id-3 input.sk-hidden--visually {border: 0;clip: rect(1px 1px 1px 1px);clip: rect(1px, 1px, 1px, 1px);height: 1px;margin: -1px;overflow: hidden;padding: 0;position: absolute;width: 1px;}#sk-container-id-3 div.sk-estimator {font-family: monospace;background-color: #f0f8ff;border: 1px dotted black;border-radius: 0.25em;box-sizing: border-box;margin-bottom: 0.5em;}#sk-container-id-3 div.sk-estimator:hover {background-color: #d4ebff;}#sk-container-id-3 div.sk-parallel-item::after {content: \"\";width: 100%;border-bottom: 1px solid gray;flex-grow: 1;}#sk-container-id-3 div.sk-label:hover label.sk-toggleable__label {background-color: #d4ebff;}#sk-container-id-3 div.sk-serial::before {content: \"\";position: absolute;border-left: 1px solid gray;box-sizing: border-box;top: 0;bottom: 0;left: 50%;z-index: 0;}#sk-container-id-3 div.sk-serial {display: flex;flex-direction: column;align-items: center;background-color: white;padding-right: 0.2em;padding-left: 0.2em;position: relative;}#sk-container-id-3 div.sk-item {position: relative;z-index: 1;}#sk-container-id-3 div.sk-parallel {display: flex;align-items: stretch;justify-content: center;background-color: white;position: relative;}#sk-container-id-3 div.sk-item::before, #sk-container-id-3 div.sk-parallel-item::before {content: \"\";position: absolute;border-left: 1px solid gray;box-sizing: border-box;top: 0;bottom: 0;left: 50%;z-index: -1;}#sk-container-id-3 div.sk-parallel-item {display: flex;flex-direction: column;z-index: 1;position: relative;background-color: white;}#sk-container-id-3 div.sk-parallel-item:first-child::after {align-self: flex-end;width: 50%;}#sk-container-id-3 div.sk-parallel-item:last-child::after {align-self: flex-start;width: 50%;}#sk-container-id-3 div.sk-parallel-item:only-child::after {width: 0;}#sk-container-id-3 div.sk-dashed-wrapped {border: 1px dashed gray;margin: 0 0.4em 0.5em 0.4em;box-sizing: border-box;padding-bottom: 0.4em;background-color: white;}#sk-container-id-3 div.sk-label label {font-family: monospace;font-weight: bold;display: inline-block;line-height: 1.2em;}#sk-container-id-3 div.sk-label-container {text-align: center;}#sk-container-id-3 div.sk-container {/* jupyter's `normalize.less` sets `[hidden] { display: none; }` but bootstrap.min.css set `[hidden] { display: none !important; }` so we also need the `!important` here to be able to override the default hidden behavior on the sphinx rendered scikit-learn.org. See: https://github.com/scikit-learn/scikit-learn/issues/21755 */display: inline-block !important;position: relative;}#sk-container-id-3 div.sk-text-repr-fallback {display: none;}</style><div id=\"sk-container-id-3\" class=\"sk-top-container\"><div class=\"sk-text-repr-fallback\"><pre>LogisticRegression(C=100, random_state=0, solver=&#x27;liblinear&#x27;)</pre><b>In a Jupyter environment, please rerun this cell to show the HTML representation or trust the notebook. <br />On GitHub, the HTML representation is unable to render, please try loading this page with nbviewer.org.</b></div><div class=\"sk-container\" hidden><div class=\"sk-item\"><div class=\"sk-estimator sk-toggleable\"><input class=\"sk-toggleable__control sk-hidden--visually\" id=\"sk-estimator-id-3\" type=\"checkbox\" checked><label for=\"sk-estimator-id-3\" class=\"sk-toggleable__label sk-toggleable__label-arrow\">LogisticRegression</label><div class=\"sk-toggleable__content\"><pre>LogisticRegression(C=100, random_state=0, solver=&#x27;liblinear&#x27;)</pre></div></div></div></div></div>"
            ]
          },
          "metadata": {},
          "execution_count": 79
        }
      ]
    },
    {
      "cell_type": "code",
      "source": [
        "# print the scores on training and test set\n",
        "\n",
        "print('Training set score: {:.4f}'.format(logreg100.score(X_train, y_train)))\n",
        "\n",
        "print('Test set score: {:.4f}'.format(logreg100.score(X_test, y_test)))"
      ],
      "metadata": {
        "colab": {
          "base_uri": "https://localhost:8080/"
        },
        "id": "81uKXkuMJfVH",
        "outputId": "c1b87142-805d-4217-ad97-b689e6d5825c"
      },
      "execution_count": null,
      "outputs": [
        {
          "output_type": "stream",
          "name": "stdout",
          "text": [
            "Training set score: 0.7488\n",
            "Test set score: 0.6010\n"
          ]
        }
      ]
    },
    {
      "cell_type": "code",
      "source": [
        "# fit the Logsitic Regression model with C=001\n",
        "\n",
        "# instantiate the model\n",
        "logreg001 = LogisticRegression(C=0.01, solver='liblinear', random_state=0)\n",
        "\n",
        "\n",
        "# fit the model\n",
        "logreg001.fit(X_train, y_train)"
      ],
      "metadata": {
        "colab": {
          "base_uri": "https://localhost:8080/",
          "height": 74
        },
        "id": "e3tbyNEHJzfQ",
        "outputId": "4e3fe2be-fb18-4794-9832-06c504a426fe"
      },
      "execution_count": null,
      "outputs": [
        {
          "output_type": "execute_result",
          "data": {
            "text/plain": [
              "LogisticRegression(C=0.01, random_state=0, solver='liblinear')"
            ],
            "text/html": [
              "<style>#sk-container-id-4 {color: black;background-color: white;}#sk-container-id-4 pre{padding: 0;}#sk-container-id-4 div.sk-toggleable {background-color: white;}#sk-container-id-4 label.sk-toggleable__label {cursor: pointer;display: block;width: 100%;margin-bottom: 0;padding: 0.3em;box-sizing: border-box;text-align: center;}#sk-container-id-4 label.sk-toggleable__label-arrow:before {content: \"▸\";float: left;margin-right: 0.25em;color: #696969;}#sk-container-id-4 label.sk-toggleable__label-arrow:hover:before {color: black;}#sk-container-id-4 div.sk-estimator:hover label.sk-toggleable__label-arrow:before {color: black;}#sk-container-id-4 div.sk-toggleable__content {max-height: 0;max-width: 0;overflow: hidden;text-align: left;background-color: #f0f8ff;}#sk-container-id-4 div.sk-toggleable__content pre {margin: 0.2em;color: black;border-radius: 0.25em;background-color: #f0f8ff;}#sk-container-id-4 input.sk-toggleable__control:checked~div.sk-toggleable__content {max-height: 200px;max-width: 100%;overflow: auto;}#sk-container-id-4 input.sk-toggleable__control:checked~label.sk-toggleable__label-arrow:before {content: \"▾\";}#sk-container-id-4 div.sk-estimator input.sk-toggleable__control:checked~label.sk-toggleable__label {background-color: #d4ebff;}#sk-container-id-4 div.sk-label input.sk-toggleable__control:checked~label.sk-toggleable__label {background-color: #d4ebff;}#sk-container-id-4 input.sk-hidden--visually {border: 0;clip: rect(1px 1px 1px 1px);clip: rect(1px, 1px, 1px, 1px);height: 1px;margin: -1px;overflow: hidden;padding: 0;position: absolute;width: 1px;}#sk-container-id-4 div.sk-estimator {font-family: monospace;background-color: #f0f8ff;border: 1px dotted black;border-radius: 0.25em;box-sizing: border-box;margin-bottom: 0.5em;}#sk-container-id-4 div.sk-estimator:hover {background-color: #d4ebff;}#sk-container-id-4 div.sk-parallel-item::after {content: \"\";width: 100%;border-bottom: 1px solid gray;flex-grow: 1;}#sk-container-id-4 div.sk-label:hover label.sk-toggleable__label {background-color: #d4ebff;}#sk-container-id-4 div.sk-serial::before {content: \"\";position: absolute;border-left: 1px solid gray;box-sizing: border-box;top: 0;bottom: 0;left: 50%;z-index: 0;}#sk-container-id-4 div.sk-serial {display: flex;flex-direction: column;align-items: center;background-color: white;padding-right: 0.2em;padding-left: 0.2em;position: relative;}#sk-container-id-4 div.sk-item {position: relative;z-index: 1;}#sk-container-id-4 div.sk-parallel {display: flex;align-items: stretch;justify-content: center;background-color: white;position: relative;}#sk-container-id-4 div.sk-item::before, #sk-container-id-4 div.sk-parallel-item::before {content: \"\";position: absolute;border-left: 1px solid gray;box-sizing: border-box;top: 0;bottom: 0;left: 50%;z-index: -1;}#sk-container-id-4 div.sk-parallel-item {display: flex;flex-direction: column;z-index: 1;position: relative;background-color: white;}#sk-container-id-4 div.sk-parallel-item:first-child::after {align-self: flex-end;width: 50%;}#sk-container-id-4 div.sk-parallel-item:last-child::after {align-self: flex-start;width: 50%;}#sk-container-id-4 div.sk-parallel-item:only-child::after {width: 0;}#sk-container-id-4 div.sk-dashed-wrapped {border: 1px dashed gray;margin: 0 0.4em 0.5em 0.4em;box-sizing: border-box;padding-bottom: 0.4em;background-color: white;}#sk-container-id-4 div.sk-label label {font-family: monospace;font-weight: bold;display: inline-block;line-height: 1.2em;}#sk-container-id-4 div.sk-label-container {text-align: center;}#sk-container-id-4 div.sk-container {/* jupyter's `normalize.less` sets `[hidden] { display: none; }` but bootstrap.min.css set `[hidden] { display: none !important; }` so we also need the `!important` here to be able to override the default hidden behavior on the sphinx rendered scikit-learn.org. See: https://github.com/scikit-learn/scikit-learn/issues/21755 */display: inline-block !important;position: relative;}#sk-container-id-4 div.sk-text-repr-fallback {display: none;}</style><div id=\"sk-container-id-4\" class=\"sk-top-container\"><div class=\"sk-text-repr-fallback\"><pre>LogisticRegression(C=0.01, random_state=0, solver=&#x27;liblinear&#x27;)</pre><b>In a Jupyter environment, please rerun this cell to show the HTML representation or trust the notebook. <br />On GitHub, the HTML representation is unable to render, please try loading this page with nbviewer.org.</b></div><div class=\"sk-container\" hidden><div class=\"sk-item\"><div class=\"sk-estimator sk-toggleable\"><input class=\"sk-toggleable__control sk-hidden--visually\" id=\"sk-estimator-id-4\" type=\"checkbox\" checked><label for=\"sk-estimator-id-4\" class=\"sk-toggleable__label sk-toggleable__label-arrow\">LogisticRegression</label><div class=\"sk-toggleable__content\"><pre>LogisticRegression(C=0.01, random_state=0, solver=&#x27;liblinear&#x27;)</pre></div></div></div></div></div>"
            ]
          },
          "metadata": {},
          "execution_count": 81
        }
      ]
    },
    {
      "cell_type": "code",
      "source": [
        "# print the scores on training and test set\n",
        "\n",
        "print('Training set score: {:.4f}'.format(logreg001.score(X_train, y_train)))\n",
        "\n",
        "print('Test set score: {:.4f}'.format(logreg001.score(X_test, y_test)))"
      ],
      "metadata": {
        "colab": {
          "base_uri": "https://localhost:8080/"
        },
        "id": "JbUMopdeJ1U5",
        "outputId": "366261b8-5bcc-4106-dd8c-717760214025"
      },
      "execution_count": null,
      "outputs": [
        {
          "output_type": "stream",
          "name": "stdout",
          "text": [
            "Training set score: 0.4914\n",
            "Test set score: 0.4655\n"
          ]
        }
      ]
    },
    {
      "cell_type": "code",
      "source": [
        "# check class distribution in test set\n",
        "\n",
        "y_test.value_counts()"
      ],
      "metadata": {
        "colab": {
          "base_uri": "https://localhost:8080/"
        },
        "id": "UV_EXnCmJ79S",
        "outputId": "ef46740d-c1b0-4309-c8e9-8ba1e9e4868c"
      },
      "execution_count": null,
      "outputs": [
        {
          "output_type": "execute_result",
          "data": {
            "text/plain": [
              "ENTITY\n",
              "ORIENTED_EDGE                                         73\n",
              "CARTESIAN_POINT                                       68\n",
              "DIRECTION                                             64\n",
              "EDGE_CURVE                                            34\n",
              "VERTEX_POINT                                          26\n",
              "LINE                                                  21\n",
              "VECTOR                                                18\n",
              "FACE_OUTER_BOUND                                      17\n",
              "EDGE_LOOP                                             16\n",
              "CIRCLE                                                15\n",
              "AXIS2_PLACEMENT_3D                                    14\n",
              "ADVANCED_FACE                                         10\n",
              "PLANE                                                  6\n",
              "CYLINDRICAL_SURFACE                                    4\n",
              "LOCAL_TIME                                             4\n",
              "PERSON_AND_ORGANIZATION                                3\n",
              "CONICAL_SURFACE                                        2\n",
              "FACE_BOUND                                             2\n",
              "DATE_TIME_ROLE                                         1\n",
              "CC_DESIGN_APPROVAL                                     1\n",
              "B_SPLINE_CURVE_WITH_KNOTS                              1\n",
              "PRODUCT_DEFINITION_FORMATION_WITH_SPECIFIED_SOURCE     1\n",
              "APPROVAL                                               1\n",
              "APPROVAL_STATUS                                        1\n",
              "MANIFOLD_SOLID_BREP                                    1\n",
              "PRODUCT                                                1\n",
              "DATE_AND_TIME                                          1\n",
              "Name: count, dtype: int64"
            ]
          },
          "metadata": {},
          "execution_count": 83
        }
      ]
    },
    {
      "cell_type": "code",
      "source": [
        "# check null accuracy score\n",
        "\n",
        "null_accuracy = (22067/(22067+6372))\n",
        "\n",
        "print('Null accuracy score: {0:0.4f}'. format(null_accuracy))"
      ],
      "metadata": {
        "colab": {
          "base_uri": "https://localhost:8080/"
        },
        "id": "LK7w7zCmKsrO",
        "outputId": "d2a3048b-a467-4180-bd18-d402d695ca0f"
      },
      "execution_count": null,
      "outputs": [
        {
          "output_type": "stream",
          "name": "stdout",
          "text": [
            "Null accuracy score: 0.7759\n"
          ]
        }
      ]
    },
    {
      "cell_type": "code",
      "source": [
        "# Print the Confusion Matrix and slice it into four pieces\n",
        "\n",
        "from sklearn.metrics import confusion_matrix\n",
        "\n",
        "cm = confusion_matrix(y_test, y_pred_test)\n",
        "\n",
        "print('Confusion matrix\\n\\n', cm)\n",
        "\n",
        "print('\\nTrue Positives(TP) = ', cm[0,0])\n",
        "\n",
        "print('\\nTrue Negatives(TN) = ', cm[1,1])\n",
        "\n",
        "print('\\nFalse Positives(FP) = ', cm[0,1])\n",
        "\n",
        "print('\\nFalse Negatives(FN) = ', cm[1,0])"
      ],
      "metadata": {
        "colab": {
          "base_uri": "https://localhost:8080/"
        },
        "id": "DBw690P4K-65",
        "outputId": "ecad50d4-c60c-4bd5-cb6f-9ed8593779e5"
      },
      "execution_count": null,
      "outputs": [
        {
          "output_type": "stream",
          "name": "stdout",
          "text": [
            "Confusion matrix\n",
            "\n",
            " [[ 0  0  0  0  0  0  0  0  0  0  0  0  9  0  0  0  0  0  0  0  1  0  0  0\n",
            "   0  0  0]\n",
            " [ 0  0  0  0  0  0  0  0  0  0  0  0  1  0  0  0  0  0  0  0  0  0  0  0\n",
            "   0  0  0]\n",
            " [ 0  0  0  0  0  0  0  0  0  0  0  0  1  0  0  0  0  0  0  0  0  0  0  0\n",
            "   0  0  0]\n",
            " [ 0  0  0  0  0  0  0  0  0  0  0  0  0  0  0  0  0  0  0  0 14  0  0  0\n",
            "   0  0  0]\n",
            " [ 0  0  0  0  1  0  0  0  0  0  0  0  0  0  0  0  0  0  0  0  0  0  0  0\n",
            "   0  0  0]\n",
            " [ 0  0  0  0  0 65  0  0  0  0  0  0  3  0  0  0  0  0  0  0  0  0  0  0\n",
            "   0  0  0]\n",
            " [ 0  0  0  0  0  0  0  0  0  0  0  0  1  0  0  0  0  0  0  0  0  0  0  0\n",
            "   0  0  0]\n",
            " [ 0  0  0  0  0  7  0  0  0  0  0  0  8  0  0  0  0  0  0  0  0  0  0  0\n",
            "   0  0  0]\n",
            " [ 0  0  0  0  0  0  0  0  0  0  0  0  2  0  0  0  0  0  0  0  0  0  0  0\n",
            "   0  0  0]\n",
            " [ 0  0  0  0  0  1  0  0  0  0  0  0  3  0  0  0  0  0  0  0  0  0  0  0\n",
            "   0  0  0]\n",
            " [ 0  0  0  0  0  0  0  0  0  0  0  0  1  0  0  0  0  0  0  0  0  0  0  0\n",
            "   0  0  0]\n",
            " [ 0  0  0  0  0  0  0  0  0  0  0  0  1  0  0  0  0  0  0  0  0  0  0  0\n",
            "   0  0  0]\n",
            " [ 0  0  0  0  0  6  0  0  0  0  0  0 58  0  0  0  0  0  0  0  0  0  0  0\n",
            "   0  0  0]\n",
            " [ 0  0  0  4  0 10  0  0  0  0  0  0  1 12  0  0  0  0  0  0  7  0  0  0\n",
            "   0  0  0]\n",
            " [ 0  0  0  0  0  0  0  0  0  0  0  0  0  0 12  0  0  0  0  0  0  0  0  0\n",
            "   0  4  0]\n",
            " [ 0  0  0  0  0  0  0  0  0  0  0  0  2  0  0  0  0  0  0  0  0  0  0  0\n",
            "   0  0  0]\n",
            " [ 0  0  0  0  0  0  0  0  0  0  0  0 17  0  0  0  0  0  0  0  0  0  0  0\n",
            "   0  0  0]\n",
            " [ 0  0  0  0  0  0  0  0  0  0  0  0 16  0  0  0  0  0  0  0  0  0  0  0\n",
            "   0  5  0]\n",
            " [ 0  0  0  4  0  0  0  0  0  0  0  0  0  0  0  0  0  0  0  0  0  0  0  0\n",
            "   0  0  0]\n",
            " [ 0  0  0  0  0  0  0  0  0  0  0  0  1  0  0  0  0  0  0  0  0  0  0  0\n",
            "   0  0  0]\n",
            " [ 0  0  0  0  0  0  0  0  0  0  0  0  0  0  0  0  0  0  0  0 73  0  0  0\n",
            "   0  0  0]\n",
            " [ 0  0  0  0  0  3  0  0  0  0  0  0  0  0  0  0  0  0  0  0  0  0  0  0\n",
            "   0  0  0]\n",
            " [ 0  0  0  0  0  2  0  0  0  0  0  0  4  0  0  0  0  0  0  0  0  0  0  0\n",
            "   0  0  0]\n",
            " [ 0  0  0  0  0  0  0  0  0  0  0  0  0  0  0  0  0  0  0  0  1  0  0  0\n",
            "   0  0  0]\n",
            " [ 0  0  0  0  0  0  0  0  0  0  0  0  1  0  0  0  0  0  0  0  0  0  0  0\n",
            "   0  0  0]\n",
            " [ 0  0  0  0  0  0  0  0  0  0  0  0 18  0  0  0  0  0  0  0  0  0  0  0\n",
            "   0  0  0]\n",
            " [ 0  0  0  0  0  0  0  0  0  0  0  0 26  0  0  0  0  0  0  0  0  0  0  0\n",
            "   0  0  0]]\n",
            "\n",
            "True Positives(TP) =  0\n",
            "\n",
            "True Negatives(TN) =  0\n",
            "\n",
            "False Positives(FP) =  0\n",
            "\n",
            "False Negatives(FN) =  0\n"
          ]
        }
      ]
    },
    {
      "cell_type": "code",
      "source": [
        "from sklearn.metrics import classification_report\n",
        "\n",
        "print(classification_report(y_test, y_pred_test))"
      ],
      "metadata": {
        "colab": {
          "base_uri": "https://localhost:8080/"
        },
        "id": "mZdirzanLBN5",
        "outputId": "96cf0d61-eb4f-4b07-97e2-aaee52ea9807"
      },
      "execution_count": null,
      "outputs": [
        {
          "output_type": "stream",
          "name": "stdout",
          "text": [
            "                                                    precision    recall  f1-score   support\n",
            "\n",
            "                                     ADVANCED_FACE       0.00      0.00      0.00        10\n",
            "                                          APPROVAL       0.00      0.00      0.00         1\n",
            "                                   APPROVAL_STATUS       0.00      0.00      0.00         1\n",
            "                                AXIS2_PLACEMENT_3D       0.00      0.00      0.00        14\n",
            "                         B_SPLINE_CURVE_WITH_KNOTS       1.00      1.00      1.00         1\n",
            "                                   CARTESIAN_POINT       0.69      0.96      0.80        68\n",
            "                                CC_DESIGN_APPROVAL       0.00      0.00      0.00         1\n",
            "                                            CIRCLE       0.00      0.00      0.00        15\n",
            "                                   CONICAL_SURFACE       0.00      0.00      0.00         2\n",
            "                               CYLINDRICAL_SURFACE       0.00      0.00      0.00         4\n",
            "                                     DATE_AND_TIME       0.00      0.00      0.00         1\n",
            "                                    DATE_TIME_ROLE       0.00      0.00      0.00         1\n",
            "                                         DIRECTION       0.33      0.91      0.49        64\n",
            "                                        EDGE_CURVE       1.00      0.35      0.52        34\n",
            "                                         EDGE_LOOP       1.00      0.75      0.86        16\n",
            "                                        FACE_BOUND       0.00      0.00      0.00         2\n",
            "                                  FACE_OUTER_BOUND       0.00      0.00      0.00        17\n",
            "                                              LINE       0.00      0.00      0.00        21\n",
            "                                        LOCAL_TIME       0.00      0.00      0.00         4\n",
            "                               MANIFOLD_SOLID_BREP       0.00      0.00      0.00         1\n",
            "                                     ORIENTED_EDGE       0.76      1.00      0.86        73\n",
            "                           PERSON_AND_ORGANIZATION       0.00      0.00      0.00         3\n",
            "                                             PLANE       0.00      0.00      0.00         6\n",
            "                                           PRODUCT       0.00      0.00      0.00         1\n",
            "PRODUCT_DEFINITION_FORMATION_WITH_SPECIFIED_SOURCE       0.00      0.00      0.00         1\n",
            "                                            VECTOR       0.00      0.00      0.00        18\n",
            "                                      VERTEX_POINT       0.00      0.00      0.00        26\n",
            "\n",
            "                                          accuracy                           0.54       406\n",
            "                                         macro avg       0.18      0.18      0.17       406\n",
            "                                      weighted avg       0.43      0.54      0.45       406\n",
            "\n"
          ]
        },
        {
          "output_type": "stream",
          "name": "stderr",
          "text": [
            "/usr/local/lib/python3.10/dist-packages/sklearn/metrics/_classification.py:1344: UndefinedMetricWarning: Precision and F-score are ill-defined and being set to 0.0 in labels with no predicted samples. Use `zero_division` parameter to control this behavior.\n",
            "  _warn_prf(average, modifier, msg_start, len(result))\n",
            "/usr/local/lib/python3.10/dist-packages/sklearn/metrics/_classification.py:1344: UndefinedMetricWarning: Precision and F-score are ill-defined and being set to 0.0 in labels with no predicted samples. Use `zero_division` parameter to control this behavior.\n",
            "  _warn_prf(average, modifier, msg_start, len(result))\n",
            "/usr/local/lib/python3.10/dist-packages/sklearn/metrics/_classification.py:1344: UndefinedMetricWarning: Precision and F-score are ill-defined and being set to 0.0 in labels with no predicted samples. Use `zero_division` parameter to control this behavior.\n",
            "  _warn_prf(average, modifier, msg_start, len(result))\n"
          ]
        }
      ]
    },
    {
      "cell_type": "code",
      "source": [
        "# Print the Confusion Matrix and slice it into four pieces\n",
        "\n",
        "from sklearn.metrics import confusion_matrix\n",
        "\n",
        "cm = confusion_matrix(y_test, y_pred_test)\n",
        "\n",
        "print('Confusion matrix\\n\\n', cm)\n",
        "\n",
        "print('\\nTrue Positives(TP) = ', cm[0,0])\n",
        "\n",
        "print('\\nTrue Negatives(TN) = ', cm[1,1])\n",
        "\n",
        "print('\\nFalse Positives(FP) = ', cm[0,1])\n",
        "\n",
        "print('\\nFalse Negatives(FN) = ', cm[1,0])"
      ],
      "metadata": {
        "colab": {
          "base_uri": "https://localhost:8080/"
        },
        "id": "5S2J-4QcPbbQ",
        "outputId": "f03b3666-ef4b-422d-e5a5-a0f0339f67a2"
      },
      "execution_count": null,
      "outputs": [
        {
          "output_type": "stream",
          "name": "stdout",
          "text": [
            "Confusion matrix\n",
            "\n",
            " [[ 0  0  0  0  0  0  0  0  0  0  0  0  9  0  0  0  0  0  0  0  1  0  0  0\n",
            "   0  0  0]\n",
            " [ 0  0  0  0  0  0  0  0  0  0  0  0  1  0  0  0  0  0  0  0  0  0  0  0\n",
            "   0  0  0]\n",
            " [ 0  0  0  0  0  0  0  0  0  0  0  0  1  0  0  0  0  0  0  0  0  0  0  0\n",
            "   0  0  0]\n",
            " [ 0  0  0  0  0  0  0  0  0  0  0  0  0  0  0  0  0  0  0  0 14  0  0  0\n",
            "   0  0  0]\n",
            " [ 0  0  0  0  1  0  0  0  0  0  0  0  0  0  0  0  0  0  0  0  0  0  0  0\n",
            "   0  0  0]\n",
            " [ 0  0  0  0  0 65  0  0  0  0  0  0  3  0  0  0  0  0  0  0  0  0  0  0\n",
            "   0  0  0]\n",
            " [ 0  0  0  0  0  0  0  0  0  0  0  0  1  0  0  0  0  0  0  0  0  0  0  0\n",
            "   0  0  0]\n",
            " [ 0  0  0  0  0  7  0  0  0  0  0  0  8  0  0  0  0  0  0  0  0  0  0  0\n",
            "   0  0  0]\n",
            " [ 0  0  0  0  0  0  0  0  0  0  0  0  2  0  0  0  0  0  0  0  0  0  0  0\n",
            "   0  0  0]\n",
            " [ 0  0  0  0  0  1  0  0  0  0  0  0  3  0  0  0  0  0  0  0  0  0  0  0\n",
            "   0  0  0]\n",
            " [ 0  0  0  0  0  0  0  0  0  0  0  0  1  0  0  0  0  0  0  0  0  0  0  0\n",
            "   0  0  0]\n",
            " [ 0  0  0  0  0  0  0  0  0  0  0  0  1  0  0  0  0  0  0  0  0  0  0  0\n",
            "   0  0  0]\n",
            " [ 0  0  0  0  0  6  0  0  0  0  0  0 58  0  0  0  0  0  0  0  0  0  0  0\n",
            "   0  0  0]\n",
            " [ 0  0  0  4  0 10  0  0  0  0  0  0  1 12  0  0  0  0  0  0  7  0  0  0\n",
            "   0  0  0]\n",
            " [ 0  0  0  0  0  0  0  0  0  0  0  0  0  0 12  0  0  0  0  0  0  0  0  0\n",
            "   0  4  0]\n",
            " [ 0  0  0  0  0  0  0  0  0  0  0  0  2  0  0  0  0  0  0  0  0  0  0  0\n",
            "   0  0  0]\n",
            " [ 0  0  0  0  0  0  0  0  0  0  0  0 17  0  0  0  0  0  0  0  0  0  0  0\n",
            "   0  0  0]\n",
            " [ 0  0  0  0  0  0  0  0  0  0  0  0 16  0  0  0  0  0  0  0  0  0  0  0\n",
            "   0  5  0]\n",
            " [ 0  0  0  4  0  0  0  0  0  0  0  0  0  0  0  0  0  0  0  0  0  0  0  0\n",
            "   0  0  0]\n",
            " [ 0  0  0  0  0  0  0  0  0  0  0  0  1  0  0  0  0  0  0  0  0  0  0  0\n",
            "   0  0  0]\n",
            " [ 0  0  0  0  0  0  0  0  0  0  0  0  0  0  0  0  0  0  0  0 73  0  0  0\n",
            "   0  0  0]\n",
            " [ 0  0  0  0  0  3  0  0  0  0  0  0  0  0  0  0  0  0  0  0  0  0  0  0\n",
            "   0  0  0]\n",
            " [ 0  0  0  0  0  2  0  0  0  0  0  0  4  0  0  0  0  0  0  0  0  0  0  0\n",
            "   0  0  0]\n",
            " [ 0  0  0  0  0  0  0  0  0  0  0  0  0  0  0  0  0  0  0  0  1  0  0  0\n",
            "   0  0  0]\n",
            " [ 0  0  0  0  0  0  0  0  0  0  0  0  1  0  0  0  0  0  0  0  0  0  0  0\n",
            "   0  0  0]\n",
            " [ 0  0  0  0  0  0  0  0  0  0  0  0 18  0  0  0  0  0  0  0  0  0  0  0\n",
            "   0  0  0]\n",
            " [ 0  0  0  0  0  0  0  0  0  0  0  0 26  0  0  0  0  0  0  0  0  0  0  0\n",
            "   0  0  0]]\n",
            "\n",
            "True Positives(TP) =  0\n",
            "\n",
            "True Negatives(TN) =  0\n",
            "\n",
            "False Positives(FP) =  0\n",
            "\n",
            "False Negatives(FN) =  0\n"
          ]
        }
      ]
    },
    {
      "cell_type": "code",
      "source": [
        "TP = cm[0,0]\n",
        "TN = cm[1,1]\n",
        "FP = cm[0,1]\n",
        "FN = cm[1,0]"
      ],
      "metadata": {
        "id": "UUyR2rEjPKkH"
      },
      "execution_count": null,
      "outputs": []
    },
    {
      "cell_type": "code",
      "source": [
        "# print classification accuracy\n",
        "\n",
        "classification_accuracy = (TP + TN) / float(TP + TN + FP + FN)\n",
        "\n",
        "print('Classification accuracy : {0:0.4f}'.format(classification_accuracy))"
      ],
      "metadata": {
        "colab": {
          "base_uri": "https://localhost:8080/"
        },
        "id": "4UC-2IXZPMle",
        "outputId": "20c48004-4e8b-410f-f9bc-d9e754b80dfb"
      },
      "execution_count": null,
      "outputs": [
        {
          "output_type": "stream",
          "name": "stdout",
          "text": [
            "Classification accuracy : nan\n"
          ]
        },
        {
          "output_type": "stream",
          "name": "stderr",
          "text": [
            "<ipython-input-94-56c129a01939>:3: RuntimeWarning: invalid value encountered in divide\n",
            "  classification_accuracy = (TP + TN) / float(TP + TN + FP + FN)\n"
          ]
        }
      ]
    },
    {
      "cell_type": "code",
      "source": [
        "# plot ROC Curve\n",
        "\n",
        "from sklearn.metrics import roc_curve\n",
        "\n",
        "fpr, tpr, thresholds = roc_curve(y_test, y_pred, pos_label = 'Yes')\n",
        "\n",
        "plt.figure(figsize=(6,4))\n",
        "\n",
        "plt.plot(fpr, tpr, linewidth=2)\n",
        "\n",
        "plt.plot([0,1], [0,1], 'k--' )\n",
        "\n",
        "plt.rcParams['font.size'] = 12\n",
        "\n",
        "plt.title('ROC curve for RainTomorrow classifier')\n",
        "\n",
        "plt.xlabel('False Positive Rate (1 - Specificity)')\n",
        "\n",
        "plt.ylabel('True Positive Rate (Sensitivity)')\n",
        "\n",
        "plt.show()"
      ],
      "metadata": {
        "colab": {
          "base_uri": "https://localhost:8080/",
          "height": 369
        },
        "id": "gemKNTR7QIFt",
        "outputId": "43850f03-f7b1-49a0-9bf3-5155c25c3e19"
      },
      "execution_count": null,
      "outputs": [
        {
          "output_type": "error",
          "ename": "ValueError",
          "evalue": "Found input variables with inconsistent numbers of samples: [406, 670]",
          "traceback": [
            "\u001b[0;31m---------------------------------------------------------------------------\u001b[0m",
            "\u001b[0;31mValueError\u001b[0m                                Traceback (most recent call last)",
            "\u001b[0;32m<ipython-input-97-e86b465c5fa4>\u001b[0m in \u001b[0;36m<cell line: 5>\u001b[0;34m()\u001b[0m\n\u001b[1;32m      3\u001b[0m \u001b[0;32mfrom\u001b[0m \u001b[0msklearn\u001b[0m\u001b[0;34m.\u001b[0m\u001b[0mmetrics\u001b[0m \u001b[0;32mimport\u001b[0m \u001b[0mroc_curve\u001b[0m\u001b[0;34m\u001b[0m\u001b[0;34m\u001b[0m\u001b[0m\n\u001b[1;32m      4\u001b[0m \u001b[0;34m\u001b[0m\u001b[0m\n\u001b[0;32m----> 5\u001b[0;31m \u001b[0mfpr\u001b[0m\u001b[0;34m,\u001b[0m \u001b[0mtpr\u001b[0m\u001b[0;34m,\u001b[0m \u001b[0mthresholds\u001b[0m \u001b[0;34m=\u001b[0m \u001b[0mroc_curve\u001b[0m\u001b[0;34m(\u001b[0m\u001b[0my_test\u001b[0m\u001b[0;34m,\u001b[0m \u001b[0my_pred\u001b[0m\u001b[0;34m,\u001b[0m \u001b[0mpos_label\u001b[0m \u001b[0;34m=\u001b[0m \u001b[0;34m'Yes'\u001b[0m\u001b[0;34m)\u001b[0m\u001b[0;34m\u001b[0m\u001b[0;34m\u001b[0m\u001b[0m\n\u001b[0m\u001b[1;32m      6\u001b[0m \u001b[0;34m\u001b[0m\u001b[0m\n\u001b[1;32m      7\u001b[0m \u001b[0mplt\u001b[0m\u001b[0;34m.\u001b[0m\u001b[0mfigure\u001b[0m\u001b[0;34m(\u001b[0m\u001b[0mfigsize\u001b[0m\u001b[0;34m=\u001b[0m\u001b[0;34m(\u001b[0m\u001b[0;36m6\u001b[0m\u001b[0;34m,\u001b[0m\u001b[0;36m4\u001b[0m\u001b[0;34m)\u001b[0m\u001b[0;34m)\u001b[0m\u001b[0;34m\u001b[0m\u001b[0;34m\u001b[0m\u001b[0m\n",
            "\u001b[0;32m/usr/local/lib/python3.10/dist-packages/sklearn/metrics/_ranking.py\u001b[0m in \u001b[0;36mroc_curve\u001b[0;34m(y_true, y_score, pos_label, sample_weight, drop_intermediate)\u001b[0m\n\u001b[1;32m    990\u001b[0m     \u001b[0marray\u001b[0m\u001b[0;34m(\u001b[0m\u001b[0;34m[\u001b[0m\u001b[0;36m1.8\u001b[0m \u001b[0;34m,\u001b[0m \u001b[0;36m0.8\u001b[0m \u001b[0;34m,\u001b[0m \u001b[0;36m0.4\u001b[0m \u001b[0;34m,\u001b[0m \u001b[0;36m0.35\u001b[0m\u001b[0;34m,\u001b[0m \u001b[0;36m0.1\u001b[0m \u001b[0;34m]\u001b[0m\u001b[0;34m)\u001b[0m\u001b[0;34m\u001b[0m\u001b[0;34m\u001b[0m\u001b[0m\n\u001b[1;32m    991\u001b[0m     \"\"\"\n\u001b[0;32m--> 992\u001b[0;31m     fps, tps, thresholds = _binary_clf_curve(\n\u001b[0m\u001b[1;32m    993\u001b[0m         \u001b[0my_true\u001b[0m\u001b[0;34m,\u001b[0m \u001b[0my_score\u001b[0m\u001b[0;34m,\u001b[0m \u001b[0mpos_label\u001b[0m\u001b[0;34m=\u001b[0m\u001b[0mpos_label\u001b[0m\u001b[0;34m,\u001b[0m \u001b[0msample_weight\u001b[0m\u001b[0;34m=\u001b[0m\u001b[0msample_weight\u001b[0m\u001b[0;34m\u001b[0m\u001b[0;34m\u001b[0m\u001b[0m\n\u001b[1;32m    994\u001b[0m     )\n",
            "\u001b[0;32m/usr/local/lib/python3.10/dist-packages/sklearn/metrics/_ranking.py\u001b[0m in \u001b[0;36m_binary_clf_curve\u001b[0;34m(y_true, y_score, pos_label, sample_weight)\u001b[0m\n\u001b[1;32m    749\u001b[0m         \u001b[0;32mraise\u001b[0m \u001b[0mValueError\u001b[0m\u001b[0;34m(\u001b[0m\u001b[0;34m\"{0} format is not supported\"\u001b[0m\u001b[0;34m.\u001b[0m\u001b[0mformat\u001b[0m\u001b[0;34m(\u001b[0m\u001b[0my_type\u001b[0m\u001b[0;34m)\u001b[0m\u001b[0;34m)\u001b[0m\u001b[0;34m\u001b[0m\u001b[0;34m\u001b[0m\u001b[0m\n\u001b[1;32m    750\u001b[0m \u001b[0;34m\u001b[0m\u001b[0m\n\u001b[0;32m--> 751\u001b[0;31m     \u001b[0mcheck_consistent_length\u001b[0m\u001b[0;34m(\u001b[0m\u001b[0my_true\u001b[0m\u001b[0;34m,\u001b[0m \u001b[0my_score\u001b[0m\u001b[0;34m,\u001b[0m \u001b[0msample_weight\u001b[0m\u001b[0;34m)\u001b[0m\u001b[0;34m\u001b[0m\u001b[0;34m\u001b[0m\u001b[0m\n\u001b[0m\u001b[1;32m    752\u001b[0m     \u001b[0my_true\u001b[0m \u001b[0;34m=\u001b[0m \u001b[0mcolumn_or_1d\u001b[0m\u001b[0;34m(\u001b[0m\u001b[0my_true\u001b[0m\u001b[0;34m)\u001b[0m\u001b[0;34m\u001b[0m\u001b[0;34m\u001b[0m\u001b[0m\n\u001b[1;32m    753\u001b[0m     \u001b[0my_score\u001b[0m \u001b[0;34m=\u001b[0m \u001b[0mcolumn_or_1d\u001b[0m\u001b[0;34m(\u001b[0m\u001b[0my_score\u001b[0m\u001b[0;34m)\u001b[0m\u001b[0;34m\u001b[0m\u001b[0;34m\u001b[0m\u001b[0m\n",
            "\u001b[0;32m/usr/local/lib/python3.10/dist-packages/sklearn/utils/validation.py\u001b[0m in \u001b[0;36mcheck_consistent_length\u001b[0;34m(*arrays)\u001b[0m\n\u001b[1;32m    395\u001b[0m     \u001b[0muniques\u001b[0m \u001b[0;34m=\u001b[0m \u001b[0mnp\u001b[0m\u001b[0;34m.\u001b[0m\u001b[0munique\u001b[0m\u001b[0;34m(\u001b[0m\u001b[0mlengths\u001b[0m\u001b[0;34m)\u001b[0m\u001b[0;34m\u001b[0m\u001b[0;34m\u001b[0m\u001b[0m\n\u001b[1;32m    396\u001b[0m     \u001b[0;32mif\u001b[0m \u001b[0mlen\u001b[0m\u001b[0;34m(\u001b[0m\u001b[0muniques\u001b[0m\u001b[0;34m)\u001b[0m \u001b[0;34m>\u001b[0m \u001b[0;36m1\u001b[0m\u001b[0;34m:\u001b[0m\u001b[0;34m\u001b[0m\u001b[0;34m\u001b[0m\u001b[0m\n\u001b[0;32m--> 397\u001b[0;31m         raise ValueError(\n\u001b[0m\u001b[1;32m    398\u001b[0m             \u001b[0;34m\"Found input variables with inconsistent numbers of samples: %r\"\u001b[0m\u001b[0;34m\u001b[0m\u001b[0;34m\u001b[0m\u001b[0m\n\u001b[1;32m    399\u001b[0m             \u001b[0;34m%\u001b[0m \u001b[0;34m[\u001b[0m\u001b[0mint\u001b[0m\u001b[0;34m(\u001b[0m\u001b[0ml\u001b[0m\u001b[0;34m)\u001b[0m \u001b[0;32mfor\u001b[0m \u001b[0ml\u001b[0m \u001b[0;32min\u001b[0m \u001b[0mlengths\u001b[0m\u001b[0;34m]\u001b[0m\u001b[0;34m\u001b[0m\u001b[0;34m\u001b[0m\u001b[0m\n",
            "\u001b[0;31mValueError\u001b[0m: Found input variables with inconsistent numbers of samples: [406, 670]"
          ]
        }
      ]
    },
    {
      "cell_type": "code",
      "source": [
        "# print the first 10 predicted probabilities of two classes- 0 and 1\n",
        "\n",
        "y_pred_prob = logreg.predict_proba(X_test)[0:10]\n",
        "\n",
        "y_pred_prob"
      ],
      "metadata": {
        "colab": {
          "base_uri": "https://localhost:8080/"
        },
        "id": "WdHKe-XFQwaZ",
        "outputId": "402174fc-e8e1-4467-e7fa-3e9dd8076baa"
      },
      "execution_count": null,
      "outputs": [
        {
          "output_type": "execute_result",
          "data": {
            "text/plain": [
              "array([[1.01829696e-02, 4.47398023e-03, 1.40081196e-02, 1.77188578e-02,\n",
              "        1.46087657e-02, 4.90630950e-03, 6.28621037e-03, 1.59854785e-02,\n",
              "        1.40475450e-02, 3.92030738e-02, 6.05764530e-03, 1.74419426e-02,\n",
              "        2.12133390e-01, 9.97314329e-03, 1.16054350e-02, 1.11328876e-02,\n",
              "        1.17433215e-02, 7.30186044e-03, 7.20981652e-03, 4.64701212e-03,\n",
              "        1.62820508e-02, 2.39168361e-03, 5.98644855e-03, 1.20085219e-02,\n",
              "        8.33700346e-03, 1.50836976e-01, 2.44168496e-02, 1.01587236e-02,\n",
              "        2.67807121e-03, 1.25701272e-03, 2.05120817e-02, 1.11534932e-02,\n",
              "        8.79284684e-03, 1.14766651e-02, 1.31597102e-01, 9.96129925e-03,\n",
              "        7.20105017e-03, 1.96064311e-02, 3.61371321e-03, 1.39839940e-02,\n",
              "        1.37576663e-02, 1.23642134e-02, 1.35883350e-02, 1.20047403e-02,\n",
              "        8.63779467e-03, 1.08556106e-02, 1.35617003e-02, 2.31015764e-03],\n",
              "       [1.28320227e-02, 2.28153200e-02, 1.65852545e-02, 1.52087197e-02,\n",
              "        1.60034209e-02, 6.88817819e-03, 6.74046005e-03, 1.81576831e-02,\n",
              "        1.65680810e-02, 2.85708431e-03, 1.14020099e-02, 2.04267913e-02,\n",
              "        1.74034284e-01, 1.07716603e-02, 9.93508599e-03, 6.63683087e-03,\n",
              "        1.33314155e-02, 1.23994620e-02, 1.09788883e-02, 1.20123661e-02,\n",
              "        2.25232699e-02, 1.68949355e-02, 7.52884638e-03, 1.47763677e-02,\n",
              "        1.04633747e-02, 2.14187011e-01, 7.65930215e-04, 4.55770906e-03,\n",
              "        1.27233652e-02, 3.09611071e-02, 1.52842157e-02, 1.37715796e-02,\n",
              "        1.06836694e-02, 1.50016203e-02, 1.43125030e-02, 1.56860079e-02,\n",
              "        8.80681108e-03, 2.08934030e-02, 8.22518636e-03, 1.39223080e-02,\n",
              "        1.45226785e-02, 1.46302867e-02, 1.44817322e-02, 1.47779440e-02,\n",
              "        1.15060453e-02, 1.53098185e-02, 8.86597514e-03, 1.73512799e-02],\n",
              "       [1.19808920e-02, 4.85146363e-03, 1.37663033e-02, 2.41226659e-02,\n",
              "        1.42376770e-02, 4.75658303e-03, 6.84540227e-03, 1.52072200e-02,\n",
              "        1.37985339e-02, 8.51530675e-02, 7.36687621e-03, 1.72889990e-02,\n",
              "        6.20780563e-02, 9.71042601e-03, 1.25225513e-02, 1.15513039e-02,\n",
              "        1.19051411e-02, 4.52341914e-03, 7.73702312e-03, 4.61103056e-03,\n",
              "        1.51732191e-02, 2.21179957e-03, 5.70316257e-03, 1.21963543e-02,\n",
              "        8.44321571e-03, 4.02032297e-02, 2.54789068e-02, 2.72056665e-02,\n",
              "        2.57613705e-03, 1.08257173e-03, 1.62731649e-02, 1.22351371e-02,\n",
              "        8.89448194e-03, 1.17349294e-02, 3.25074030e-01, 1.03932469e-02,\n",
              "        6.77733842e-03, 1.75831968e-02, 2.64823192e-03, 1.64048842e-02,\n",
              "        1.49439953e-02, 1.25037826e-02, 1.44505540e-02, 1.21930900e-02,\n",
              "        8.78471178e-03, 1.12341979e-02, 1.21723756e-02, 1.40975245e-03],\n",
              "       [6.54234842e-03, 1.91397150e-02, 2.72919520e-03, 2.23361307e-03,\n",
              "        2.53414908e-03, 6.59367355e-03, 5.94233921e-03, 2.76255424e-03,\n",
              "        2.72843318e-03, 1.22199011e-02, 2.69389824e-03, 1.68291578e-02,\n",
              "        6.24937703e-01, 3.92296201e-03, 4.40125219e-03, 2.08407765e-03,\n",
              "        4.67308210e-03, 1.05909605e-02, 3.54892254e-03, 3.23542637e-03,\n",
              "        2.83781418e-03, 1.99050377e-02, 4.16028746e-03, 2.67275367e-03,\n",
              "        3.54224591e-03, 7.28344088e-03, 7.09657844e-03, 3.88677617e-03,\n",
              "        1.53814134e-02, 3.16675552e-02, 3.11087149e-02, 2.86534602e-03,\n",
              "        3.25296695e-03, 2.68357394e-03, 3.30035187e-04, 2.71066715e-03,\n",
              "        1.40879122e-03, 2.79381227e-03, 2.19297095e-02, 2.49273980e-03,\n",
              "        2.54232086e-03, 2.66512335e-03, 2.57509879e-03, 2.67283255e-03,\n",
              "        2.42425590e-03, 5.77640642e-03, 1.83537932e-02, 5.26365442e-02],\n",
              "       [1.24243644e-03, 1.11403580e-03, 2.38846970e-03, 3.17056195e-03,\n",
              "        2.48433251e-03, 1.27354688e-03, 1.15552276e-03, 2.97028143e-03,\n",
              "        2.39372387e-03, 5.00408370e-02, 2.49268429e-03, 1.49819474e-03,\n",
              "        1.44073471e-02, 1.64082373e-03, 1.41227262e-03, 1.76181828e-03,\n",
              "        1.33699090e-03, 2.95785103e-03, 1.33829082e-03, 1.40723161e-03,\n",
              "        3.56638145e-03, 7.39689951e-04, 1.01496319e-03, 1.80604400e-03,\n",
              "        1.46147944e-03, 2.44767869e-02, 7.03105993e-02, 3.21452774e-03,\n",
              "        7.71774058e-04, 2.87653702e-04, 7.70461776e-04, 1.48653273e-03,\n",
              "        1.10193915e-03, 1.73825929e-03, 7.66939615e-01, 1.53834561e-03,\n",
              "        7.91999447e-04, 4.05561693e-03, 1.90502649e-03, 2.31867783e-03,\n",
              "        1.76682245e-03, 1.85040430e-03, 1.81391208e-03, 1.80556621e-03,\n",
              "        1.46028457e-03, 1.19685314e-03, 3.09496952e-04, 1.01303291e-03],\n",
              "       [9.14029574e-04, 3.21537820e-02, 2.04069199e-03, 1.47300560e-03,\n",
              "        1.96523811e-03, 2.84143505e-03, 2.48055261e-03, 2.45115588e-03,\n",
              "        2.03983996e-03, 1.02595953e-02, 2.31136001e-03, 2.11141716e-03,\n",
              "        3.31406433e-01, 4.91163391e-03, 5.07590084e-03, 5.01263763e-03,\n",
              "        2.21435416e-03, 6.92243897e-02, 4.55234394e-03, 6.05947903e-03,\n",
              "        3.30447349e-03, 3.71326303e-02, 4.05312945e-03, 1.61428829e-03,\n",
              "        2.54385847e-03, 2.20059135e-01, 4.56228981e-02, 6.56828424e-03,\n",
              "        1.04256216e-02, 2.14222588e-02, 2.54100308e-02, 2.17662025e-03,\n",
              "        2.79728687e-03, 1.62309411e-03, 1.07001858e-03, 1.64386246e-03,\n",
              "        3.16236193e-03, 3.22409256e-03, 2.12178609e-02, 1.41842967e-03,\n",
              "        1.50079451e-03, 1.60795765e-03, 1.52849597e-03, 1.61435319e-03,\n",
              "        1.63288266e-03, 1.44764155e-03, 3.40233464e-02, 4.86550168e-02],\n",
              "       [4.42786789e-03, 1.02639707e-02, 6.64756619e-03, 5.58650106e-03,\n",
              "        6.80621439e-03, 7.98988639e-03, 7.36791845e-03, 7.21375780e-03,\n",
              "        6.65811524e-03, 1.34419733e-02, 3.01534576e-03, 6.83344295e-03,\n",
              "        5.74931532e-01, 7.20327483e-03, 3.88630784e-03, 1.05323690e-02,\n",
              "        5.43909456e-03, 2.07841590e-02, 3.79804953e-03, 5.21481682e-03,\n",
              "        7.35557445e-03, 3.74446438e-03, 1.07463415e-02, 6.03585841e-03,\n",
              "        4.22748319e-03, 5.92226481e-02, 2.43027637e-02, 3.53302516e-03,\n",
              "        5.62462118e-03, 7.08940159e-03, 1.96221014e-02, 5.12716997e-03,\n",
              "        6.90385536e-03, 5.88266974e-03, 1.24897164e-02, 5.42454444e-03,\n",
              "        1.25478089e-02, 8.17919716e-03, 8.76563533e-03, 5.86623129e-03,\n",
              "        5.87609542e-03, 6.13549538e-03, 6.00258585e-03, 6.03478214e-03,\n",
              "        4.48952157e-03, 5.38579971e-03, 1.19386304e-02, 1.34038143e-02],\n",
              "       [6.92202353e-03, 3.47386431e-02, 9.10672070e-03, 8.12329017e-03,\n",
              "        8.88119739e-03, 1.15103526e-02, 1.06175304e-02, 9.55004683e-03,\n",
              "        9.09902666e-03, 6.10710363e-03, 5.58335430e-03, 9.21423250e-03,\n",
              "        4.03530094e-01, 9.10288038e-03, 4.92060450e-03, 1.10728491e-02,\n",
              "        7.26068040e-03, 2.46496084e-02, 6.19832529e-03, 1.08540128e-02,\n",
              "        1.08994731e-02, 1.26416924e-02, 1.42706910e-02, 8.54185627e-03,\n",
              "        5.97985594e-03, 5.97891644e-02, 3.73158637e-03, 6.23197806e-03,\n",
              "        1.56827657e-02, 4.30971592e-02, 2.56645359e-02, 7.36130446e-03,\n",
              "        9.48338991e-03, 8.64653784e-03, 4.39610753e-03, 8.95788635e-03,\n",
              "        1.62523849e-02, 1.02432172e-02, 1.35585426e-02, 8.07012494e-03,\n",
              "        8.27886462e-03, 8.47323891e-03, 8.30320619e-03, 8.54259255e-03,\n",
              "        6.58845410e-03, 8.24409609e-03, 1.77587308e-02, 3.32679860e-02],\n",
              "       [1.04731320e-02, 1.17846742e-02, 1.47041041e-02, 1.29489010e-02,\n",
              "        1.45975214e-02, 5.88846949e-03, 5.76202069e-03, 1.64481152e-02,\n",
              "        1.47098427e-02, 4.79896734e-03, 8.39528674e-03, 1.83031008e-02,\n",
              "        2.48309096e-01, 9.98252988e-03, 9.20212392e-03, 6.86167849e-03,\n",
              "        1.19732076e-02, 1.19857138e-02, 8.74124636e-03, 8.28469235e-03,\n",
              "        1.91583453e-02, 8.79613713e-03, 6.75422193e-03, 1.28318014e-02,\n",
              "        9.07262074e-03, 2.38674807e-01, 2.51157569e-03, 3.40690935e-03,\n",
              "        7.36468089e-03, 1.13917657e-02, 1.40376128e-02, 1.18280613e-02,\n",
              "        9.41464024e-03, 1.27402799e-02, 2.68906908e-02, 1.24401790e-02,\n",
              "        8.02137049e-03, 1.95990893e-02, 6.77048318e-03, 1.22566166e-02,\n",
              "        1.26413962e-02, 1.28889602e-02, 1.27435225e-02, 1.28311731e-02,\n",
              "        9.76582179e-03, 1.26939021e-02, 7.54163024e-03, 1.07772809e-02],\n",
              "       [3.36177983e-03, 1.96646733e-02, 7.79204013e-03, 6.71197316e-03,\n",
              "        7.55377880e-03, 4.20578812e-03, 4.08871448e-03, 1.00663435e-02,\n",
              "        7.78299655e-03, 3.23268272e-03, 6.32325828e-03, 4.36317936e-03,\n",
              "        8.21537624e-02, 4.35338962e-03, 3.94827037e-03, 4.53451580e-03,\n",
              "        3.59612733e-03, 1.57454748e-02, 4.65851664e-03, 9.03466642e-03,\n",
              "        1.62346718e-02, 1.16701103e-02, 2.89771652e-03, 5.64539889e-03,\n",
              "        4.43741291e-03, 5.71598513e-01, 1.65776733e-03, 3.95106319e-03,\n",
              "        8.35933568e-03, 1.40830606e-02, 1.53176203e-02, 3.52631105e-03,\n",
              "        3.08139811e-03, 5.73890625e-03, 2.08599459e-02, 6.01844979e-03,\n",
              "        2.20336527e-03, 1.49272083e-02, 1.15969591e-02, 5.09785043e-03,\n",
              "        5.57369435e-03, 5.58446392e-03, 5.54704839e-03, 5.64605547e-03,\n",
              "        4.71363374e-03, 3.99627279e-03, 9.87546328e-03, 1.69883721e-02]])"
            ]
          },
          "metadata": {},
          "execution_count": 99
        }
      ]
    },
    {
      "cell_type": "code",
      "source": [
        "# print the first 10 predicted probabilities for class 1 - Probability of rain\n",
        "\n",
        "logreg.predict_proba(X_test)[0:10, 1]"
      ],
      "metadata": {
        "colab": {
          "base_uri": "https://localhost:8080/"
        },
        "id": "8TMp7ZDXQ1Z6",
        "outputId": "6b055731-1d32-485d-a1c2-4d70dd11c0eb"
      },
      "execution_count": null,
      "outputs": [
        {
          "output_type": "execute_result",
          "data": {
            "text/plain": [
              "array([0.00447398, 0.02281532, 0.00485146, 0.01913972, 0.00111404,\n",
              "       0.03215378, 0.01026397, 0.03473864, 0.01178467, 0.01966467])"
            ]
          },
          "metadata": {},
          "execution_count": 101
        }
      ]
    },
    {
      "cell_type": "code",
      "source": [
        "# store the predicted probabilities for class 1 - Probability of rain\n",
        "\n",
        "y_pred1 = logreg.predict_proba(X_test)[:, 1]"
      ],
      "metadata": {
        "id": "U1qX9JFYQ7D0"
      },
      "execution_count": null,
      "outputs": []
    },
    {
      "cell_type": "code",
      "source": [
        "# plot histogram of predicted probabilities\n",
        "\n",
        "\n",
        "# adjust the font size\n",
        "plt.rcParams['font.size'] = 12\n",
        "\n",
        "\n",
        "# plot histogram with 10 bins\n",
        "plt.hist(y_pred1, bins = 10)\n",
        "\n",
        "\n",
        "# set the title of predicted probabilities\n",
        "plt.title('Histogram of predicted probabilities of rain')\n",
        "\n",
        "\n",
        "# set the x-axis limit\n",
        "plt.xlim(0,1)\n",
        "\n",
        "\n",
        "# set the title\n",
        "plt.xlabel('Predicted probabilities of rain')\n",
        "plt.ylabel('Frequency')"
      ],
      "metadata": {
        "colab": {
          "base_uri": "https://localhost:8080/",
          "height": 499
        },
        "id": "mKff2fq_Q9vr",
        "outputId": "90294406-a4c7-463f-fd23-c669d2f0c5d2"
      },
      "execution_count": null,
      "outputs": [
        {
          "output_type": "execute_result",
          "data": {
            "text/plain": [
              "Text(0, 0.5, 'Frequency')"
            ]
          },
          "metadata": {},
          "execution_count": 103
        },
        {
          "output_type": "display_data",
          "data": {
            "text/plain": [
              "<Figure size 640x480 with 1 Axes>"
            ],
            "image/png": "[encoded data removed]"
          },
          "metadata": {}
        }
      ]
    },
    {
      "cell_type": "code",
      "source": [
        "from sklearn.preprocessing import binarize\n",
        "\n",
        "for i in range(1,5):\n",
        "\n",
        "    cm1=0\n",
        "\n",
        "    y_pred1 = logreg.predict_proba(X_test)[:,1]\n",
        "\n",
        "    y_pred1 = y_pred1.reshape(-1,1)\n",
        "\n",
        "    y_pred2 = binarize(y_pred1, i/10)\n",
        "\n",
        "    y_pred2 = np.where(y_pred2 == 1, 'Yes', 'No')\n",
        "\n",
        "    cm1 = confusion_matrix(y_test, y_pred2)\n",
        "\n",
        "    print ('With',i/10,'threshold the Confusion Matrix is ','\\n\\n',cm1,'\\n\\n',\n",
        "\n",
        "            'with',cm1[0,0]+cm1[1,1],'correct predictions, ', '\\n\\n',\n",
        "\n",
        "            cm1[0,1],'Type I errors( False Positives), ','\\n\\n',\n",
        "\n",
        "            cm1[1,0],'Type II errors( False Negatives), ','\\n\\n',\n",
        "\n",
        "           'Accuracy score: ', (accuracy_score(y_test, y_pred2)), '\\n\\n',\n",
        "\n",
        "           'Sensitivity: ',cm1[1,1]/(float(cm1[1,1]+cm1[1,0])), '\\n\\n',\n",
        "\n",
        "           'Specificity: ',cm1[0,0]/(float(cm1[0,0]+cm1[0,1])),'\\n\\n',\n",
        "\n",
        "            '====================================================', '\\n\\n')"
      ],
      "metadata": {
        "colab": {
          "base_uri": "https://localhost:8080/",
          "height": 218
        },
        "id": "n7ntVzdfRC8z",
        "outputId": "9f9329e9-506b-47bf-8a1f-ee348d8891fb"
      },
      "execution_count": null,
      "outputs": [
        {
          "output_type": "error",
          "ename": "TypeError",
          "evalue": "binarize() takes 1 positional argument but 2 were given",
          "traceback": [
            "\u001b[0;31m---------------------------------------------------------------------------\u001b[0m",
            "\u001b[0;31mTypeError\u001b[0m                                 Traceback (most recent call last)",
            "\u001b[0;32m<ipython-input-104-151a17ab42be>\u001b[0m in \u001b[0;36m<cell line: 3>\u001b[0;34m()\u001b[0m\n\u001b[1;32m      9\u001b[0m     \u001b[0my_pred1\u001b[0m \u001b[0;34m=\u001b[0m \u001b[0my_pred1\u001b[0m\u001b[0;34m.\u001b[0m\u001b[0mreshape\u001b[0m\u001b[0;34m(\u001b[0m\u001b[0;34m-\u001b[0m\u001b[0;36m1\u001b[0m\u001b[0;34m,\u001b[0m\u001b[0;36m1\u001b[0m\u001b[0;34m)\u001b[0m\u001b[0;34m\u001b[0m\u001b[0;34m\u001b[0m\u001b[0m\n\u001b[1;32m     10\u001b[0m \u001b[0;34m\u001b[0m\u001b[0m\n\u001b[0;32m---> 11\u001b[0;31m     \u001b[0my_pred2\u001b[0m \u001b[0;34m=\u001b[0m \u001b[0mbinarize\u001b[0m\u001b[0;34m(\u001b[0m\u001b[0my_pred1\u001b[0m\u001b[0;34m,\u001b[0m \u001b[0mi\u001b[0m\u001b[0;34m/\u001b[0m\u001b[0;36m10\u001b[0m\u001b[0;34m)\u001b[0m\u001b[0;34m\u001b[0m\u001b[0;34m\u001b[0m\u001b[0m\n\u001b[0m\u001b[1;32m     12\u001b[0m \u001b[0;34m\u001b[0m\u001b[0m\n\u001b[1;32m     13\u001b[0m     \u001b[0my_pred2\u001b[0m \u001b[0;34m=\u001b[0m \u001b[0mnp\u001b[0m\u001b[0;34m.\u001b[0m\u001b[0mwhere\u001b[0m\u001b[0;34m(\u001b[0m\u001b[0my_pred2\u001b[0m \u001b[0;34m==\u001b[0m \u001b[0;36m1\u001b[0m\u001b[0;34m,\u001b[0m \u001b[0;34m'Yes'\u001b[0m\u001b[0;34m,\u001b[0m \u001b[0;34m'No'\u001b[0m\u001b[0;34m)\u001b[0m\u001b[0;34m\u001b[0m\u001b[0;34m\u001b[0m\u001b[0m\n",
            "\u001b[0;31mTypeError\u001b[0m: binarize() takes 1 positional argument but 2 were given"
          ]
        }
      ]
    },
    {
      "cell_type": "code",
      "source": [
        "# plot ROC Curve\n",
        "\n",
        "from sklearn.metrics import roc_curve\n",
        "\n",
        "fpr, tpr, thresholds = roc_curve(y_test, y_pred1, pos_label = 'Yes')\n",
        "\n",
        "plt.figure(figsize=(6,4))\n",
        "\n",
        "plt.plot(fpr, tpr, linewidth=2)\n",
        "\n",
        "plt.plot([0,1], [0,1], 'k--' )\n",
        "\n",
        "plt.rcParams['font.size'] = 12\n",
        "\n",
        "plt.title('ROC curve for ENTITY classifier')\n",
        "\n",
        "plt.xlabel('False Positive Rate (1 - Specificity)')\n",
        "\n",
        "plt.ylabel('True Positive Rate (Sensitivity)')\n",
        "\n",
        "plt.show()"
      ],
      "metadata": {
        "colab": {
          "base_uri": "https://localhost:8080/",
          "height": 455
        },
        "id": "2QAfx5-dRHTk",
        "outputId": "6cf63815-c79f-45ad-fa66-9fa1673e3382"
      },
      "execution_count": null,
      "outputs": [
        {
          "output_type": "stream",
          "name": "stderr",
          "text": [
            "/usr/local/lib/python3.10/dist-packages/sklearn/metrics/_ranking.py:1029: UndefinedMetricWarning: No positive samples in y_true, true positive value should be meaningless\n",
            "  warnings.warn(\n"
          ]
        },
        {
          "output_type": "display_data",
          "data": {
            "text/plain": [
              "<Figure size 600x400 with 1 Axes>"
            ],
            "image/png": "[encoded data removed]"
          },
          "metadata": {}
        }
      ]
    },
    {
      "cell_type": "code",
      "source": [
        "# Applying 5-Fold Cross Validation\n",
        "\n",
        "from sklearn.model_selection import cross_val_score\n",
        "\n",
        "scores = cross_val_score(logreg, X_train, y_train, cv = 5, scoring='accuracy')\n",
        "\n",
        "print('Cross-validation scores:{}'.format(scores))"
      ],
      "metadata": {
        "colab": {
          "base_uri": "https://localhost:8080/"
        },
        "id": "Yw_tc91iRhro",
        "outputId": "902a8319-458a-4002-a94e-53e65923bc90"
      },
      "execution_count": null,
      "outputs": [
        {
          "output_type": "stream",
          "name": "stderr",
          "text": [
            "/usr/local/lib/python3.10/dist-packages/sklearn/model_selection/_split.py:700: UserWarning: The least populated class in y has only 1 members, which is less than n_splits=5.\n",
            "  warnings.warn(\n"
          ]
        },
        {
          "output_type": "stream",
          "name": "stdout",
          "text": [
            "Cross-validation scores:[0.56923077 0.62769231 0.64307692 0.64615385 0.66975309]\n"
          ]
        }
      ]
    }
  ]
}