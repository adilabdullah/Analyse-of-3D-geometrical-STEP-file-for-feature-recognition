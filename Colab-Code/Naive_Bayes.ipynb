{
  "nbformat": 4,
  "nbformat_minor": 0,
  "metadata": {
    "colab": {
      "provenance": []
    },
    "kernelspec": {
      "name": "python3",
      "display_name": "Python 3"
    },
    "language_info": {
      "name": "python"
    }
  },
  "cells": [
    {
      "cell_type": "markdown",
      "source": [
        "# **Naive Bayes**"
      ],
      "metadata": {
        "id": "vOFzCFTlk9aB"
      }
    },
    {
      "cell_type": "code",
      "execution_count": 1,
      "metadata": {
        "id": "ibkmOTKXk0h1"
      },
      "outputs": [],
      "source": [
        "import pandas as pd\n",
        "data = 'Step_datasets_14.csv'\n",
        "\n",
        "df = pd.read_csv(data)"
      ]
    },
    {
      "cell_type": "code",
      "source": [
        "X = df.drop(['ENTITY'], axis=1)\n",
        "\n",
        "y = df['ENTITY']"
      ],
      "metadata": {
        "id": "xn5mirZFlypd"
      },
      "execution_count": 2,
      "outputs": []
    },
    {
      "cell_type": "code",
      "source": [
        "# split X and y into training and testing sets\n",
        "\n",
        "from sklearn.model_selection import train_test_split\n",
        "\n",
        "X_train, X_test, y_train, y_test = train_test_split(X, y, test_size = 0.3, random_state = 0)"
      ],
      "metadata": {
        "id": "-N8HPpYBl11m"
      },
      "execution_count": 3,
      "outputs": []
    },
    {
      "cell_type": "code",
      "source": [
        "!pip install category_encoders"
      ],
      "metadata": {
        "colab": {
          "base_uri": "https://localhost:8080/"
        },
        "id": "MbqUXPBQmA7A",
        "outputId": "960edd46-2fe8-47e4-88be-db58c7af20a3"
      },
      "execution_count": 5,
      "outputs": [
        {
          "output_type": "stream",
          "name": "stdout",
          "text": [
            "Collecting category_encoders\n",
            "  Downloading category_encoders-2.6.3-py2.py3-none-any.whl.metadata (8.0 kB)\n",
            "Requirement already satisfied: numpy>=1.14.0 in /usr/local/lib/python3.10/dist-packages (from category_encoders) (1.26.4)\n",
            "Requirement already satisfied: scikit-learn>=0.20.0 in /usr/local/lib/python3.10/dist-packages (from category_encoders) (1.3.2)\n",
            "Requirement already satisfied: scipy>=1.0.0 in /usr/local/lib/python3.10/dist-packages (from category_encoders) (1.13.1)\n",
            "Requirement already satisfied: statsmodels>=0.9.0 in /usr/local/lib/python3.10/dist-packages (from category_encoders) (0.14.2)\n",
            "Requirement already satisfied: pandas>=1.0.5 in /usr/local/lib/python3.10/dist-packages (from category_encoders) (2.1.4)\n",
            "Requirement already satisfied: patsy>=0.5.1 in /usr/local/lib/python3.10/dist-packages (from category_encoders) (0.5.6)\n",
            "Requirement already satisfied: python-dateutil>=2.8.2 in /usr/local/lib/python3.10/dist-packages (from pandas>=1.0.5->category_encoders) (2.8.2)\n",
            "Requirement already satisfied: pytz>=2020.1 in /usr/local/lib/python3.10/dist-packages (from pandas>=1.0.5->category_encoders) (2024.1)\n",
            "Requirement already satisfied: tzdata>=2022.1 in /usr/local/lib/python3.10/dist-packages (from pandas>=1.0.5->category_encoders) (2024.1)\n",
            "Requirement already satisfied: six in /usr/local/lib/python3.10/dist-packages (from patsy>=0.5.1->category_encoders) (1.16.0)\n",
            "Requirement already satisfied: joblib>=1.1.1 in /usr/local/lib/python3.10/dist-packages (from scikit-learn>=0.20.0->category_encoders) (1.4.2)\n",
            "Requirement already satisfied: threadpoolctl>=2.0.0 in /usr/local/lib/python3.10/dist-packages (from scikit-learn>=0.20.0->category_encoders) (3.5.0)\n",
            "Requirement already satisfied: packaging>=21.3 in /usr/local/lib/python3.10/dist-packages (from statsmodels>=0.9.0->category_encoders) (24.1)\n",
            "Downloading category_encoders-2.6.3-py2.py3-none-any.whl (81 kB)\n",
            "\u001b[2K   \u001b[90m━━━━━━━━━━━━━━━━━━━━━━━━━━━━━━━━━━━━━━━━\u001b[0m \u001b[32m81.9/81.9 kB\u001b[0m \u001b[31m2.0 MB/s\u001b[0m eta \u001b[36m0:00:00\u001b[0m\n",
            "\u001b[?25hInstalling collected packages: category_encoders\n",
            "Successfully installed category_encoders-2.6.3\n"
          ]
        }
      ]
    },
    {
      "cell_type": "code",
      "source": [
        "# import category encoders\n",
        "\n",
        "import category_encoders as ce"
      ],
      "metadata": {
        "id": "GUQ9tXKpl_un"
      },
      "execution_count": 6,
      "outputs": []
    },
    {
      "cell_type": "code",
      "source": [
        "X_train.drop(['REFERENCES'], axis=1, inplace=True)\n"
      ],
      "metadata": {
        "colab": {
          "base_uri": "https://localhost:8080/",
          "height": 164
        },
        "id": "T9BwsRZtmVYJ",
        "outputId": "17545c8a-57f5-494b-eef3-e73d2f0fc712"
      },
      "execution_count": 11,
      "outputs": [
        {
          "output_type": "error",
          "ename": "AttributeError",
          "evalue": "'numpy.ndarray' object has no attribute 'drop'",
          "traceback": [
            "\u001b[0;31m---------------------------------------------------------------------------\u001b[0m",
            "\u001b[0;31mAttributeError\u001b[0m                            Traceback (most recent call last)",
            "\u001b[0;32m<ipython-input-11-850d79457890>\u001b[0m in \u001b[0;36m<cell line: 1>\u001b[0;34m()\u001b[0m\n\u001b[0;32m----> 1\u001b[0;31m \u001b[0mX_train\u001b[0m\u001b[0;34m.\u001b[0m\u001b[0mdrop\u001b[0m\u001b[0;34m(\u001b[0m\u001b[0;34m[\u001b[0m\u001b[0;34m'REFERENCES'\u001b[0m\u001b[0;34m]\u001b[0m\u001b[0;34m,\u001b[0m \u001b[0maxis\u001b[0m\u001b[0;34m=\u001b[0m\u001b[0;36m1\u001b[0m\u001b[0;34m,\u001b[0m \u001b[0minplace\u001b[0m\u001b[0;34m=\u001b[0m\u001b[0;32mTrue\u001b[0m\u001b[0;34m)\u001b[0m\u001b[0;34m\u001b[0m\u001b[0;34m\u001b[0m\u001b[0m\n\u001b[0m\u001b[1;32m      2\u001b[0m \u001b[0mX_test\u001b[0m\u001b[0;34m.\u001b[0m\u001b[0mdrop\u001b[0m\u001b[0;34m(\u001b[0m\u001b[0;34m[\u001b[0m\u001b[0;34m'REFERENCES'\u001b[0m\u001b[0;34m]\u001b[0m\u001b[0;34m,\u001b[0m \u001b[0maxis\u001b[0m\u001b[0;34m=\u001b[0m\u001b[0;36m1\u001b[0m\u001b[0;34m,\u001b[0m \u001b[0minplace\u001b[0m\u001b[0;34m=\u001b[0m\u001b[0;32mTrue\u001b[0m\u001b[0;34m)\u001b[0m\u001b[0;34m\u001b[0m\u001b[0;34m\u001b[0m\u001b[0m\n",
            "\u001b[0;31mAttributeError\u001b[0m: 'numpy.ndarray' object has no attribute 'drop'"
          ]
        }
      ]
    },
    {
      "cell_type": "code",
      "source": [
        "X_test.drop(['REFERENCES'], axis=1, inplace=True)"
      ],
      "metadata": {
        "id": "rVLDy3ximd-q"
      },
      "execution_count": 12,
      "outputs": []
    },
    {
      "cell_type": "code",
      "source": [
        "from sklearn.preprocessing import RobustScaler\n",
        "\n",
        "scaler = RobustScaler()\n",
        "\n",
        "X_train = scaler.fit_transform(X_train)\n",
        "\n",
        "X_test = scaler.transform(X_test)"
      ],
      "metadata": {
        "colab": {
          "base_uri": "https://localhost:8080/"
        },
        "id": "timmnHTHmJgw",
        "outputId": "8f312bc6-04e5-41c6-968e-a27618fd02b8"
      },
      "execution_count": 13,
      "outputs": [
        {
          "output_type": "stream",
          "name": "stderr",
          "text": [
            "/usr/local/lib/python3.10/dist-packages/sklearn/base.py:458: UserWarning: X has feature names, but RobustScaler was fitted without feature names\n",
            "  warnings.warn(\n"
          ]
        }
      ]
    },
    {
      "cell_type": "code",
      "source": [
        "# train a Gaussian Naive Bayes classifier on the training set\n",
        "from sklearn.naive_bayes import GaussianNB\n",
        "\n",
        "\n",
        "# instantiate the model\n",
        "gnb = GaussianNB()\n",
        "\n",
        "\n",
        "# fit the model\n",
        "gnb.fit(X_train, y_train)"
      ],
      "metadata": {
        "colab": {
          "base_uri": "https://localhost:8080/",
          "height": 74
        },
        "id": "_gLoFIJzmlJL",
        "outputId": "9a81a217-90d6-4c40-9c35-fdeb9858504c"
      },
      "execution_count": 14,
      "outputs": [
        {
          "output_type": "execute_result",
          "data": {
            "text/plain": [
              "GaussianNB()"
            ],
            "text/html": [
              "<style>#sk-container-id-1 {color: black;}#sk-container-id-1 pre{padding: 0;}#sk-container-id-1 div.sk-toggleable {background-color: white;}#sk-container-id-1 label.sk-toggleable__label {cursor: pointer;display: block;width: 100%;margin-bottom: 0;padding: 0.3em;box-sizing: border-box;text-align: center;}#sk-container-id-1 label.sk-toggleable__label-arrow:before {content: \"▸\";float: left;margin-right: 0.25em;color: #696969;}#sk-container-id-1 label.sk-toggleable__label-arrow:hover:before {color: black;}#sk-container-id-1 div.sk-estimator:hover label.sk-toggleable__label-arrow:before {color: black;}#sk-container-id-1 div.sk-toggleable__content {max-height: 0;max-width: 0;overflow: hidden;text-align: left;background-color: #f0f8ff;}#sk-container-id-1 div.sk-toggleable__content pre {margin: 0.2em;color: black;border-radius: 0.25em;background-color: #f0f8ff;}#sk-container-id-1 input.sk-toggleable__control:checked~div.sk-toggleable__content {max-height: 200px;max-width: 100%;overflow: auto;}#sk-container-id-1 input.sk-toggleable__control:checked~label.sk-toggleable__label-arrow:before {content: \"▾\";}#sk-container-id-1 div.sk-estimator input.sk-toggleable__control:checked~label.sk-toggleable__label {background-color: #d4ebff;}#sk-container-id-1 div.sk-label input.sk-toggleable__control:checked~label.sk-toggleable__label {background-color: #d4ebff;}#sk-container-id-1 input.sk-hidden--visually {border: 0;clip: rect(1px 1px 1px 1px);clip: rect(1px, 1px, 1px, 1px);height: 1px;margin: -1px;overflow: hidden;padding: 0;position: absolute;width: 1px;}#sk-container-id-1 div.sk-estimator {font-family: monospace;background-color: #f0f8ff;border: 1px dotted black;border-radius: 0.25em;box-sizing: border-box;margin-bottom: 0.5em;}#sk-container-id-1 div.sk-estimator:hover {background-color: #d4ebff;}#sk-container-id-1 div.sk-parallel-item::after {content: \"\";width: 100%;border-bottom: 1px solid gray;flex-grow: 1;}#sk-container-id-1 div.sk-label:hover label.sk-toggleable__label {background-color: #d4ebff;}#sk-container-id-1 div.sk-serial::before {content: \"\";position: absolute;border-left: 1px solid gray;box-sizing: border-box;top: 0;bottom: 0;left: 50%;z-index: 0;}#sk-container-id-1 div.sk-serial {display: flex;flex-direction: column;align-items: center;background-color: white;padding-right: 0.2em;padding-left: 0.2em;position: relative;}#sk-container-id-1 div.sk-item {position: relative;z-index: 1;}#sk-container-id-1 div.sk-parallel {display: flex;align-items: stretch;justify-content: center;background-color: white;position: relative;}#sk-container-id-1 div.sk-item::before, #sk-container-id-1 div.sk-parallel-item::before {content: \"\";position: absolute;border-left: 1px solid gray;box-sizing: border-box;top: 0;bottom: 0;left: 50%;z-index: -1;}#sk-container-id-1 div.sk-parallel-item {display: flex;flex-direction: column;z-index: 1;position: relative;background-color: white;}#sk-container-id-1 div.sk-parallel-item:first-child::after {align-self: flex-end;width: 50%;}#sk-container-id-1 div.sk-parallel-item:last-child::after {align-self: flex-start;width: 50%;}#sk-container-id-1 div.sk-parallel-item:only-child::after {width: 0;}#sk-container-id-1 div.sk-dashed-wrapped {border: 1px dashed gray;margin: 0 0.4em 0.5em 0.4em;box-sizing: border-box;padding-bottom: 0.4em;background-color: white;}#sk-container-id-1 div.sk-label label {font-family: monospace;font-weight: bold;display: inline-block;line-height: 1.2em;}#sk-container-id-1 div.sk-label-container {text-align: center;}#sk-container-id-1 div.sk-container {/* jupyter's `normalize.less` sets `[hidden] { display: none; }` but bootstrap.min.css set `[hidden] { display: none !important; }` so we also need the `!important` here to be able to override the default hidden behavior on the sphinx rendered scikit-learn.org. See: https://github.com/scikit-learn/scikit-learn/issues/21755 */display: inline-block !important;position: relative;}#sk-container-id-1 div.sk-text-repr-fallback {display: none;}</style><div id=\"sk-container-id-1\" class=\"sk-top-container\"><div class=\"sk-text-repr-fallback\"><pre>GaussianNB()</pre><b>In a Jupyter environment, please rerun this cell to show the HTML representation or trust the notebook. <br />On GitHub, the HTML representation is unable to render, please try loading this page with nbviewer.org.</b></div><div class=\"sk-container\" hidden><div class=\"sk-item\"><div class=\"sk-estimator sk-toggleable\"><input class=\"sk-toggleable__control sk-hidden--visually\" id=\"sk-estimator-id-1\" type=\"checkbox\" checked><label for=\"sk-estimator-id-1\" class=\"sk-toggleable__label sk-toggleable__label-arrow\">GaussianNB</label><div class=\"sk-toggleable__content\"><pre>GaussianNB()</pre></div></div></div></div></div>"
            ]
          },
          "metadata": {},
          "execution_count": 14
        }
      ]
    },
    {
      "cell_type": "code",
      "source": [
        "y_pred = gnb.predict(X_test)\n",
        "\n",
        "y_pred"
      ],
      "metadata": {
        "colab": {
          "base_uri": "https://localhost:8080/"
        },
        "id": "jrFg2-kpmmot",
        "outputId": "a691b568-559d-4c60-ef5c-58dd6896f3d1"
      },
      "execution_count": 15,
      "outputs": [
        {
          "output_type": "execute_result",
          "data": {
            "text/plain": [
              "array(['EDGE_LOOP', 'FACE_OUTER_BOUND', 'EDGE_LOOP', 'EDGE_LOOP',\n",
              "       'EDGE_LOOP', 'EDGE_LOOP', 'EDGE_LOOP', 'EDGE_LOOP', 'LINE',\n",
              "       'EDGE_LOOP', 'EDGE_LOOP', 'EDGE_LOOP', 'EDGE_LOOP', 'EDGE_LOOP',\n",
              "       'LINE', 'AXIS2_PLACEMENT_3D', 'LINE', 'EDGE_LOOP', 'LINE',\n",
              "       'EDGE_LOOP', 'LINE', 'FACE_OUTER_BOUND', 'LINE', 'LINE',\n",
              "       'EDGE_LOOP', 'FACE_OUTER_BOUND', 'EDGE_LOOP', 'EDGE_LOOP',\n",
              "       'EDGE_LOOP', 'EDGE_LOOP', 'LINE', 'LINE', 'FACE_OUTER_BOUND',\n",
              "       'EDGE_LOOP', 'FACE_OUTER_BOUND', 'EDGE_LOOP', 'FACE_OUTER_BOUND',\n",
              "       'EDGE_LOOP', 'EDGE_LOOP', 'LINE', 'EDGE_LOOP', 'EDGE_LOOP',\n",
              "       'EDGE_LOOP', 'LINE', 'EDGE_LOOP', 'EDGE_LOOP', 'EDGE_LOOP', 'LINE',\n",
              "       'EDGE_LOOP', 'EDGE_LOOP', 'EDGE_LOOP', 'EDGE_LOOP', 'EDGE_LOOP',\n",
              "       'EDGE_LOOP', 'EDGE_LOOP', 'FACE_OUTER_BOUND', 'EDGE_LOOP',\n",
              "       'EDGE_LOOP', 'LINE', 'EDGE_LOOP', 'EDGE_LOOP', 'LINE',\n",
              "       'AXIS2_PLACEMENT_3D', 'LINE', 'EDGE_LOOP', 'LINE', 'LINE',\n",
              "       'EDGE_LOOP', 'EDGE_LOOP', 'EDGE_LOOP', 'FACE_OUTER_BOUND',\n",
              "       'EDGE_LOOP', 'EDGE_LOOP', 'EDGE_LOOP', 'LINE', 'LINE', 'EDGE_LOOP',\n",
              "       'LINE', 'EDGE_LOOP', 'EDGE_LOOP', 'FACE_OUTER_BOUND', 'EDGE_LOOP',\n",
              "       'LINE', 'EDGE_LOOP', 'EDGE_LOOP', 'EDGE_LOOP', 'EDGE_LOOP',\n",
              "       'EDGE_LOOP', 'LINE', 'DATE_AND_TIME', 'AXIS2_PLACEMENT_3D', 'LINE',\n",
              "       'EDGE_LOOP', 'EDGE_LOOP', 'LINE', 'EDGE_LOOP', 'LINE', 'EDGE_LOOP',\n",
              "       'EDGE_LOOP', 'EDGE_LOOP', 'EDGE_LOOP', 'EDGE_LOOP', 'LINE', 'LINE',\n",
              "       'EDGE_LOOP', 'EDGE_LOOP', 'EDGE_LOOP', 'EDGE_LOOP', 'EDGE_LOOP',\n",
              "       'LINE', 'EDGE_LOOP', 'EDGE_LOOP', 'EDGE_LOOP', 'EDGE_LOOP',\n",
              "       'EDGE_LOOP', 'LINE', 'EDGE_LOOP', 'EDGE_LOOP', 'EDGE_LOOP',\n",
              "       'EDGE_LOOP', 'EDGE_LOOP', 'LINE', 'EDGE_LOOP', 'EDGE_LOOP',\n",
              "       'EDGE_LOOP', 'EDGE_LOOP', 'EDGE_LOOP', 'EDGE_LOOP', 'EDGE_LOOP',\n",
              "       'FACE_OUTER_BOUND', 'EDGE_LOOP', 'EDGE_LOOP', 'EDGE_LOOP',\n",
              "       'EDGE_LOOP', 'LINE', 'EDGE_LOOP', 'EDGE_LOOP', 'EDGE_LOOP',\n",
              "       'EDGE_LOOP', 'LINE', 'EDGE_LOOP', 'EDGE_LOOP', 'LINE',\n",
              "       'AXIS2_PLACEMENT_3D', 'EDGE_LOOP', 'FACE_OUTER_BOUND',\n",
              "       'AXIS2_PLACEMENT_3D', 'EDGE_LOOP', 'EDGE_LOOP', 'FACE_OUTER_BOUND',\n",
              "       'EDGE_LOOP', 'EDGE_LOOP', 'EDGE_LOOP', 'EDGE_LOOP', 'EDGE_LOOP',\n",
              "       'EDGE_LOOP', 'LINE', 'FACE_OUTER_BOUND', 'EDGE_LOOP', 'EDGE_LOOP',\n",
              "       'EDGE_LOOP', 'EDGE_LOOP', 'EDGE_LOOP', 'FACE_OUTER_BOUND',\n",
              "       'EDGE_LOOP', 'LINE', 'EDGE_LOOP', 'EDGE_LOOP', 'EDGE_LOOP', 'LINE',\n",
              "       'EDGE_LOOP', 'EDGE_LOOP', 'EDGE_LOOP', 'AXIS2_PLACEMENT_3D',\n",
              "       'LINE', 'LINE', 'LINE', 'EDGE_LOOP', 'EDGE_LOOP', 'LINE', 'LINE',\n",
              "       'FACE_OUTER_BOUND', 'EDGE_LOOP', 'LINE', 'EDGE_LOOP', 'EDGE_LOOP',\n",
              "       'LINE', 'EDGE_LOOP', 'EDGE_LOOP', 'EDGE_LOOP', 'EDGE_LOOP', 'LINE',\n",
              "       'LINE', 'EDGE_LOOP', 'EDGE_LOOP', 'EDGE_LOOP', 'LINE', 'EDGE_LOOP',\n",
              "       'EDGE_LOOP', 'EDGE_LOOP', 'EDGE_LOOP', 'LINE', 'EDGE_LOOP', 'LINE',\n",
              "       'AXIS2_PLACEMENT_3D', 'EDGE_LOOP', 'FACE_OUTER_BOUND', 'LINE',\n",
              "       'EDGE_LOOP', 'EDGE_LOOP', 'LINE', 'LINE', 'EDGE_LOOP', 'EDGE_LOOP',\n",
              "       'CC_DESIGN_PERSON_AND_ORGANIZATION_ASSIGNMENT', 'EDGE_LOOP',\n",
              "       'LINE', 'EDGE_LOOP', 'EDGE_LOOP', 'LINE', 'EDGE_LOOP', 'EDGE_LOOP',\n",
              "       'LINE', 'EDGE_LOOP', 'LINE', 'FACE_OUTER_BOUND', 'EDGE_LOOP',\n",
              "       'EDGE_LOOP', 'EDGE_LOOP', 'EDGE_LOOP', 'EDGE_LOOP', 'EDGE_LOOP',\n",
              "       'EDGE_LOOP', 'EDGE_LOOP', 'LINE', 'EDGE_LOOP', 'EDGE_LOOP',\n",
              "       'EDGE_LOOP', 'EDGE_LOOP', 'EDGE_LOOP', 'EDGE_LOOP', 'EDGE_LOOP',\n",
              "       'EDGE_LOOP', 'EDGE_LOOP', 'LINE', 'EDGE_LOOP', 'LINE', 'EDGE_LOOP',\n",
              "       'EDGE_LOOP', 'EDGE_LOOP', 'EDGE_LOOP', 'LINE', 'EDGE_LOOP',\n",
              "       'EDGE_LOOP', 'EDGE_LOOP', 'EDGE_LOOP', 'LINE', 'LINE', 'LINE',\n",
              "       'EDGE_LOOP', 'EDGE_LOOP', 'EDGE_LOOP', 'EDGE_LOOP',\n",
              "       'FACE_OUTER_BOUND', 'EDGE_LOOP', 'EDGE_LOOP', 'EDGE_LOOP',\n",
              "       'EDGE_LOOP', 'LINE', 'EDGE_LOOP', 'EDGE_LOOP', 'EDGE_LOOP', 'LINE',\n",
              "       'EDGE_LOOP', 'EDGE_LOOP', 'EDGE_LOOP', 'EDGE_LOOP', 'EDGE_LOOP',\n",
              "       'EDGE_LOOP', 'AXIS2_PLACEMENT_3D', 'LINE', 'LINE', 'EDGE_LOOP',\n",
              "       'EDGE_LOOP', 'LINE', 'FACE_OUTER_BOUND', 'EDGE_LOOP', 'EDGE_LOOP',\n",
              "       'EDGE_LOOP', 'EDGE_LOOP', 'EDGE_LOOP', 'EDGE_LOOP', 'EDGE_LOOP',\n",
              "       'EDGE_LOOP', 'EDGE_LOOP', 'EDGE_LOOP', 'EDGE_LOOP', 'EDGE_LOOP',\n",
              "       'EDGE_LOOP', 'EDGE_LOOP', 'EDGE_LOOP', 'EDGE_LOOP',\n",
              "       'FACE_OUTER_BOUND', 'EDGE_LOOP', 'EDGE_LOOP', 'LINE', 'EDGE_LOOP',\n",
              "       'EDGE_LOOP', 'EDGE_LOOP', 'AXIS2_PLACEMENT_3D', 'LINE',\n",
              "       'EDGE_LOOP', 'EDGE_LOOP', 'LINE', 'EDGE_LOOP', 'EDGE_LOOP', 'LINE',\n",
              "       'LINE', 'EDGE_LOOP', 'FACE_OUTER_BOUND', 'EDGE_LOOP', 'LINE',\n",
              "       'LINE', 'EDGE_LOOP', 'EDGE_LOOP', 'EDGE_LOOP', 'EDGE_LOOP',\n",
              "       'EDGE_LOOP', 'LINE', 'EDGE_LOOP', 'EDGE_LOOP', 'EDGE_LOOP', 'LINE',\n",
              "       'LINE', 'EDGE_LOOP', 'AXIS2_PLACEMENT_3D', 'EDGE_LOOP',\n",
              "       'EDGE_LOOP', 'EDGE_LOOP', 'EDGE_LOOP', 'FACE_OUTER_BOUND',\n",
              "       'EDGE_LOOP', 'EDGE_LOOP', 'EDGE_LOOP', 'AXIS2_PLACEMENT_3D',\n",
              "       'EDGE_LOOP', 'EDGE_LOOP', 'LINE', 'FACE_OUTER_BOUND', 'LINE',\n",
              "       'LINE', 'EDGE_LOOP', 'EDGE_LOOP', 'EDGE_LOOP', 'EDGE_LOOP',\n",
              "       'AXIS2_PLACEMENT_3D', 'FACE_OUTER_BOUND', 'EDGE_LOOP', 'EDGE_LOOP',\n",
              "       'EDGE_LOOP', 'LINE', 'EDGE_LOOP', 'LINE', 'LINE', 'EDGE_LOOP',\n",
              "       'LINE', 'EDGE_LOOP', 'LINE', 'EDGE_LOOP', 'LINE', 'EDGE_LOOP',\n",
              "       'FACE_OUTER_BOUND', 'EDGE_LOOP', 'EDGE_LOOP', 'EDGE_LOOP',\n",
              "       'EDGE_LOOP', 'LINE', 'EDGE_LOOP', 'LINE', 'EDGE_LOOP', 'EDGE_LOOP',\n",
              "       'FACE_OUTER_BOUND', 'EDGE_LOOP', 'EDGE_LOOP', 'FACE_OUTER_BOUND',\n",
              "       'LINE', 'EDGE_LOOP', 'LINE', 'EDGE_LOOP', 'EDGE_LOOP', 'EDGE_LOOP',\n",
              "       'EDGE_LOOP', 'EDGE_LOOP', 'EDGE_LOOP', 'EDGE_LOOP',\n",
              "       'AXIS2_PLACEMENT_3D', 'EDGE_LOOP', 'EDGE_LOOP', 'EDGE_LOOP',\n",
              "       'EDGE_LOOP', 'LINE', 'EDGE_LOOP', 'EDGE_LOOP', 'EDGE_LOOP', 'LINE',\n",
              "       'DATE_AND_TIME', 'LINE', 'LINE', 'EDGE_LOOP', 'EDGE_LOOP',\n",
              "       'EDGE_LOOP', 'EDGE_LOOP', 'EDGE_LOOP', 'LINE', 'EDGE_LOOP',\n",
              "       'EDGE_LOOP', 'FACE_OUTER_BOUND', 'EDGE_LOOP', 'LINE', 'EDGE_LOOP',\n",
              "       'LINE', 'EDGE_LOOP', 'EDGE_LOOP', 'EDGE_LOOP', 'LINE', 'LINE',\n",
              "       'EDGE_LOOP', 'CC_DESIGN_PERSON_AND_ORGANIZATION_ASSIGNMENT',\n",
              "       'EDGE_LOOP', 'EDGE_LOOP', 'EDGE_LOOP', 'EDGE_LOOP', 'EDGE_LOOP',\n",
              "       'EDGE_LOOP', 'EDGE_LOOP', 'EDGE_LOOP', 'AXIS2_PLACEMENT_3D',\n",
              "       'LINE', 'EDGE_LOOP', 'EDGE_LOOP', 'EDGE_LOOP', 'EDGE_LOOP',\n",
              "       'FACE_OUTER_BOUND', 'EDGE_LOOP', 'EDGE_LOOP', 'AXIS2_PLACEMENT_3D',\n",
              "       'EDGE_LOOP', 'LINE', 'LINE', 'EDGE_LOOP', 'EDGE_LOOP', 'EDGE_LOOP',\n",
              "       'EDGE_LOOP', 'EDGE_LOOP', 'EDGE_LOOP', 'EDGE_LOOP', 'LINE',\n",
              "       'EDGE_LOOP', 'LINE', 'LINE', 'EDGE_LOOP', 'EDGE_LOOP', 'EDGE_LOOP',\n",
              "       'EDGE_LOOP', 'EDGE_LOOP', 'EDGE_LOOP', 'EDGE_LOOP', 'LINE', 'LINE',\n",
              "       'LINE', 'EDGE_LOOP', 'EDGE_LOOP', 'EDGE_LOOP', 'EDGE_LOOP',\n",
              "       'EDGE_LOOP', 'EDGE_LOOP', 'LINE', 'EDGE_LOOP', 'EDGE_LOOP',\n",
              "       'EDGE_LOOP', 'AXIS2_PLACEMENT_3D', 'FACE_OUTER_BOUND', 'EDGE_LOOP',\n",
              "       'LINE', 'LINE', 'EDGE_LOOP', 'FACE_OUTER_BOUND', 'EDGE_LOOP',\n",
              "       'EDGE_LOOP', 'EDGE_LOOP', 'EDGE_LOOP', 'EDGE_LOOP', 'EDGE_LOOP',\n",
              "       'EDGE_LOOP', 'EDGE_LOOP', 'EDGE_LOOP', 'EDGE_LOOP', 'EDGE_LOOP',\n",
              "       'EDGE_LOOP', 'EDGE_LOOP', 'LINE', 'EDGE_LOOP', 'LINE',\n",
              "       'FACE_OUTER_BOUND', 'EDGE_LOOP', 'EDGE_LOOP', 'EDGE_LOOP',\n",
              "       'EDGE_LOOP', 'LINE', 'EDGE_LOOP', 'EDGE_LOOP', 'EDGE_LOOP', 'LINE',\n",
              "       'LINE', 'EDGE_LOOP', 'EDGE_LOOP', 'EDGE_LOOP', 'FACE_OUTER_BOUND',\n",
              "       'EDGE_LOOP', 'EDGE_LOOP', 'LINE', 'EDGE_LOOP', 'EDGE_LOOP',\n",
              "       'EDGE_LOOP', 'EDGE_LOOP', 'EDGE_LOOP', 'EDGE_LOOP', 'EDGE_LOOP',\n",
              "       'EDGE_LOOP', 'EDGE_LOOP', 'EDGE_LOOP', 'LINE', 'EDGE_LOOP',\n",
              "       'AXIS2_PLACEMENT_3D', 'LINE', 'EDGE_LOOP', 'EDGE_LOOP', 'LINE',\n",
              "       'LINE', 'EDGE_LOOP', 'EDGE_LOOP', 'EDGE_LOOP', 'LINE', 'EDGE_LOOP',\n",
              "       'EDGE_LOOP', 'EDGE_LOOP', 'EDGE_LOOP', 'EDGE_LOOP', 'EDGE_LOOP',\n",
              "       'EDGE_LOOP', 'EDGE_LOOP', 'LINE', 'EDGE_LOOP', 'EDGE_LOOP',\n",
              "       'AXIS2_PLACEMENT_3D', 'FACE_OUTER_BOUND', 'EDGE_LOOP', 'EDGE_LOOP',\n",
              "       'LINE', 'EDGE_LOOP', 'EDGE_LOOP', 'EDGE_LOOP', 'LINE', 'LINE',\n",
              "       'EDGE_LOOP', 'EDGE_LOOP', 'EDGE_LOOP', 'LINE', 'EDGE_LOOP', 'LINE',\n",
              "       'EDGE_LOOP', 'EDGE_LOOP', 'EDGE_LOOP', 'EDGE_LOOP', 'EDGE_LOOP',\n",
              "       'EDGE_LOOP', 'EDGE_LOOP', 'EDGE_LOOP', 'EDGE_LOOP', 'EDGE_LOOP',\n",
              "       'EDGE_LOOP', 'EDGE_LOOP', 'EDGE_LOOP', 'EDGE_LOOP',\n",
              "       'AXIS2_PLACEMENT_3D', 'LINE', 'EDGE_LOOP', 'EDGE_LOOP',\n",
              "       'EDGE_LOOP', 'EDGE_LOOP', 'EDGE_LOOP', 'EDGE_LOOP',\n",
              "       'FACE_OUTER_BOUND', 'EDGE_LOOP', 'FACE_OUTER_BOUND', 'EDGE_LOOP',\n",
              "       'LINE', 'EDGE_LOOP', 'LINE', 'EDGE_LOOP', 'LINE', 'EDGE_LOOP',\n",
              "       'LINE', 'LINE', 'EDGE_LOOP', 'EDGE_LOOP', 'EDGE_LOOP', 'LINE',\n",
              "       'EDGE_LOOP'], dtype='<U44')"
            ]
          },
          "metadata": {},
          "execution_count": 15
        }
      ]
    },
    {
      "cell_type": "code",
      "source": [
        "from sklearn.metrics import accuracy_score\n",
        "\n",
        "print('Model accuracy score: {0:0.4f}'. format(accuracy_score(y_test, y_pred)))"
      ],
      "metadata": {
        "colab": {
          "base_uri": "https://localhost:8080/"
        },
        "id": "QIXOGTdomowk",
        "outputId": "dce6e720-97c3-4bcd-e269-d37a7f36044c"
      },
      "execution_count": 16,
      "outputs": [
        {
          "output_type": "stream",
          "name": "stdout",
          "text": [
            "Model accuracy score: 0.0870\n"
          ]
        }
      ]
    },
    {
      "cell_type": "code",
      "source": [
        "y_pred_train = gnb.predict(X_train)\n",
        "\n",
        "y_pred_train"
      ],
      "metadata": {
        "colab": {
          "base_uri": "https://localhost:8080/"
        },
        "id": "NexT15RcmyVV",
        "outputId": "05541e2e-2e97-4463-a39c-f5ca8af5853e"
      },
      "execution_count": 17,
      "outputs": [
        {
          "output_type": "execute_result",
          "data": {
            "text/plain": [
              "array(['ORIENTED_EDGE', 'EDGE_CURVE', 'VECTOR', ..., 'LINE', 'PLANE',\n",
              "       'DIRECTION'], dtype='<U44')"
            ]
          },
          "metadata": {},
          "execution_count": 17
        }
      ]
    },
    {
      "cell_type": "code",
      "source": [
        "print('Training-set accuracy score: {0:0.4f}'. format(accuracy_score(y_train, y_pred_train)))\n"
      ],
      "metadata": {
        "colab": {
          "base_uri": "https://localhost:8080/"
        },
        "id": "ZySoMi4xmz_q",
        "outputId": "dc369bb2-f9e6-4812-bd18-e8c14e13e322"
      },
      "execution_count": 18,
      "outputs": [
        {
          "output_type": "stream",
          "name": "stdout",
          "text": [
            "Training-set accuracy score: 0.9289\n"
          ]
        }
      ]
    },
    {
      "cell_type": "code",
      "source": [
        "# print the scores on training and test set\n",
        "\n",
        "print('Training set score: {:.4f}'.format(gnb.score(X_train, y_train)))\n",
        "\n",
        "print('Test set score: {:.4f}'.format(gnb.score(X_test, y_test)))"
      ],
      "metadata": {
        "colab": {
          "base_uri": "https://localhost:8080/"
        },
        "id": "stjVjTfOm22u",
        "outputId": "9c475543-14df-4711-81c1-d0f9e11c4fd1"
      },
      "execution_count": 19,
      "outputs": [
        {
          "output_type": "stream",
          "name": "stdout",
          "text": [
            "Training set score: 0.9289\n",
            "Test set score: 0.0870\n"
          ]
        }
      ]
    },
    {
      "cell_type": "code",
      "source": [
        "# check null accuracy score\n",
        "\n",
        "null_accuracy = (7407/(7407+2362))\n",
        "\n",
        "print('Null accuracy score: {0:0.4f}'. format(null_accuracy))"
      ],
      "metadata": {
        "colab": {
          "base_uri": "https://localhost:8080/"
        },
        "id": "qPM_K0Mhm8Rn",
        "outputId": "a8ad7fdd-7e65-4b04-881b-3896f4fa9adc"
      },
      "execution_count": 20,
      "outputs": [
        {
          "output_type": "stream",
          "name": "stdout",
          "text": [
            "Null accuracy score: 0.7582\n"
          ]
        }
      ]
    },
    {
      "cell_type": "code",
      "source": [
        "# Print the Confusion Matrix and slice it into four pieces\n",
        "\n",
        "from sklearn.metrics import confusion_matrix\n",
        "\n",
        "cm = confusion_matrix(y_test, y_pred)\n",
        "\n",
        "print('Confusion matrix\\n\\n', cm)\n",
        "\n",
        "print('\\nTrue Positives(TP) = ', cm[0,0])\n",
        "\n",
        "print('\\nTrue Negatives(TN) = ', cm[1,1])\n",
        "\n",
        "print('\\nFalse Positives(FP) = ', cm[0,1])\n",
        "\n",
        "print('\\nFalse Negatives(FN) = ', cm[1,0])"
      ],
      "metadata": {
        "colab": {
          "base_uri": "https://localhost:8080/"
        },
        "id": "LRbF1nABnApH",
        "outputId": "14f6543a-b925-445d-d98b-915ef0f75718"
      },
      "execution_count": 21,
      "outputs": [
        {
          "output_type": "stream",
          "name": "stdout",
          "text": [
            "Confusion matrix\n",
            "\n",
            " [[0 0 0 ... 0 0 0]\n",
            " [0 0 0 ... 0 0 0]\n",
            " [0 0 0 ... 0 0 0]\n",
            " ...\n",
            " [0 0 0 ... 0 0 0]\n",
            " [0 0 0 ... 0 0 0]\n",
            " [0 0 0 ... 0 0 0]]\n",
            "\n",
            "True Positives(TP) =  0\n",
            "\n",
            "True Negatives(TN) =  0\n",
            "\n",
            "False Positives(FP) =  0\n",
            "\n",
            "False Negatives(FN) =  0\n"
          ]
        }
      ]
    },
    {
      "cell_type": "code",
      "source": [
        "# visualize confusion matrix with seaborn heatmap\n",
        "\n",
        "cm_matrix = pd.DataFrame(data=cm, columns=['Actual Positive:1', 'Actual Negative:0'],\n",
        "                                 index=['Predict Positive:1', 'Predict Negative:0'])\n",
        "\n",
        "sns.heatmap(cm_matrix, annot=True, fmt='d', cmap='YlGnBu')"
      ],
      "metadata": {
        "colab": {
          "base_uri": "https://localhost:8080/",
          "height": 369
        },
        "id": "O5TfAEkhnDQ_",
        "outputId": "ca870828-6285-4cbb-b5a2-86bb63fb793a"
      },
      "execution_count": 22,
      "outputs": [
        {
          "output_type": "error",
          "ename": "ValueError",
          "evalue": "Shape of passed values is (34, 34), indices imply (2, 2)",
          "traceback": [
            "\u001b[0;31m---------------------------------------------------------------------------\u001b[0m",
            "\u001b[0;31mValueError\u001b[0m                                Traceback (most recent call last)",
            "\u001b[0;32m<ipython-input-22-7eca7b7a5934>\u001b[0m in \u001b[0;36m<cell line: 3>\u001b[0;34m()\u001b[0m\n\u001b[1;32m      1\u001b[0m \u001b[0;31m# visualize confusion matrix with seaborn heatmap\u001b[0m\u001b[0;34m\u001b[0m\u001b[0;34m\u001b[0m\u001b[0m\n\u001b[1;32m      2\u001b[0m \u001b[0;34m\u001b[0m\u001b[0m\n\u001b[0;32m----> 3\u001b[0;31m cm_matrix = pd.DataFrame(data=cm, columns=['Actual Positive:1', 'Actual Negative:0'], \n\u001b[0m\u001b[1;32m      4\u001b[0m                                  index=['Predict Positive:1', 'Predict Negative:0'])\n\u001b[1;32m      5\u001b[0m \u001b[0;34m\u001b[0m\u001b[0m\n",
            "\u001b[0;32m/usr/local/lib/python3.10/dist-packages/pandas/core/frame.py\u001b[0m in \u001b[0;36m__init__\u001b[0;34m(self, data, index, columns, dtype, copy)\u001b[0m\n\u001b[1;32m    780\u001b[0m                 )\n\u001b[1;32m    781\u001b[0m             \u001b[0;32melse\u001b[0m\u001b[0;34m:\u001b[0m\u001b[0;34m\u001b[0m\u001b[0;34m\u001b[0m\u001b[0m\n\u001b[0;32m--> 782\u001b[0;31m                 mgr = ndarray_to_mgr(\n\u001b[0m\u001b[1;32m    783\u001b[0m                     \u001b[0mdata\u001b[0m\u001b[0;34m,\u001b[0m\u001b[0;34m\u001b[0m\u001b[0;34m\u001b[0m\u001b[0m\n\u001b[1;32m    784\u001b[0m                     \u001b[0mindex\u001b[0m\u001b[0;34m,\u001b[0m\u001b[0;34m\u001b[0m\u001b[0;34m\u001b[0m\u001b[0m\n",
            "\u001b[0;32m/usr/local/lib/python3.10/dist-packages/pandas/core/internals/construction.py\u001b[0m in \u001b[0;36mndarray_to_mgr\u001b[0;34m(values, index, columns, dtype, copy, typ)\u001b[0m\n\u001b[1;32m    334\u001b[0m     )\n\u001b[1;32m    335\u001b[0m \u001b[0;34m\u001b[0m\u001b[0m\n\u001b[0;32m--> 336\u001b[0;31m     \u001b[0m_check_values_indices_shape_match\u001b[0m\u001b[0;34m(\u001b[0m\u001b[0mvalues\u001b[0m\u001b[0;34m,\u001b[0m \u001b[0mindex\u001b[0m\u001b[0;34m,\u001b[0m \u001b[0mcolumns\u001b[0m\u001b[0;34m)\u001b[0m\u001b[0;34m\u001b[0m\u001b[0;34m\u001b[0m\u001b[0m\n\u001b[0m\u001b[1;32m    337\u001b[0m \u001b[0;34m\u001b[0m\u001b[0m\n\u001b[1;32m    338\u001b[0m     \u001b[0;32mif\u001b[0m \u001b[0mtyp\u001b[0m \u001b[0;34m==\u001b[0m \u001b[0;34m\"array\"\u001b[0m\u001b[0;34m:\u001b[0m\u001b[0;34m\u001b[0m\u001b[0;34m\u001b[0m\u001b[0m\n",
            "\u001b[0;32m/usr/local/lib/python3.10/dist-packages/pandas/core/internals/construction.py\u001b[0m in \u001b[0;36m_check_values_indices_shape_match\u001b[0;34m(values, index, columns)\u001b[0m\n\u001b[1;32m    418\u001b[0m         \u001b[0mpassed\u001b[0m \u001b[0;34m=\u001b[0m \u001b[0mvalues\u001b[0m\u001b[0;34m.\u001b[0m\u001b[0mshape\u001b[0m\u001b[0;34m\u001b[0m\u001b[0;34m\u001b[0m\u001b[0m\n\u001b[1;32m    419\u001b[0m         \u001b[0mimplied\u001b[0m \u001b[0;34m=\u001b[0m \u001b[0;34m(\u001b[0m\u001b[0mlen\u001b[0m\u001b[0;34m(\u001b[0m\u001b[0mindex\u001b[0m\u001b[0;34m)\u001b[0m\u001b[0;34m,\u001b[0m \u001b[0mlen\u001b[0m\u001b[0;34m(\u001b[0m\u001b[0mcolumns\u001b[0m\u001b[0;34m)\u001b[0m\u001b[0;34m)\u001b[0m\u001b[0;34m\u001b[0m\u001b[0;34m\u001b[0m\u001b[0m\n\u001b[0;32m--> 420\u001b[0;31m         \u001b[0;32mraise\u001b[0m \u001b[0mValueError\u001b[0m\u001b[0;34m(\u001b[0m\u001b[0;34mf\"Shape of passed values is {passed}, indices imply {implied}\"\u001b[0m\u001b[0;34m)\u001b[0m\u001b[0;34m\u001b[0m\u001b[0;34m\u001b[0m\u001b[0m\n\u001b[0m\u001b[1;32m    421\u001b[0m \u001b[0;34m\u001b[0m\u001b[0m\n\u001b[1;32m    422\u001b[0m \u001b[0;34m\u001b[0m\u001b[0m\n",
            "\u001b[0;31mValueError\u001b[0m: Shape of passed values is (34, 34), indices imply (2, 2)"
          ]
        }
      ]
    },
    {
      "cell_type": "code",
      "source": [
        "from sklearn.metrics import classification_report\n",
        "\n",
        "print(classification_report(y_test, y_pred))"
      ],
      "metadata": {
        "colab": {
          "base_uri": "https://localhost:8080/"
        },
        "id": "ivwKr80rnG9f",
        "outputId": "d4aa32c2-6c07-47fe-9095-8d0639f1e6f9"
      },
      "execution_count": 23,
      "outputs": [
        {
          "output_type": "stream",
          "name": "stdout",
          "text": [
            "                                                    precision    recall  f1-score   support\n",
            "\n",
            "                                     ADVANCED_FACE       0.00      0.00      0.00        18\n",
            "                               APPLICATION_CONTEXT       0.00      0.00      0.00         1\n",
            "                   APPLICATION_PROTOCOL_DEFINITION       0.00      0.00      0.00         1\n",
            "                                          APPROVAL       0.00      0.00      0.00         1\n",
            "                                     APPROVAL_ROLE       0.00      0.00      0.00         1\n",
            "                                   APPROVAL_STATUS       0.00      0.00      0.00         2\n",
            "                                AXIS2_PLACEMENT_3D       0.00      0.00      0.00        32\n",
            "                         B_SPLINE_CURVE_WITH_KNOTS       0.00      0.00      0.00         1\n",
            "                                     CALENDAR_DATE       0.00      0.00      0.00         1\n",
            "                                   CARTESIAN_POINT       0.00      0.00      0.00        98\n",
            "                                CC_DESIGN_APPROVAL       0.00      0.00      0.00         1\n",
            "      CC_DESIGN_PERSON_AND_ORGANIZATION_ASSIGNMENT       0.00      0.00      0.00         0\n",
            "                                            CIRCLE       0.00      0.00      0.00        20\n",
            "                                   CONICAL_SURFACE       0.00      0.00      0.00         3\n",
            "                 COORDINATED_UNIVERSAL_TIME_OFFSET       0.00      0.00      0.00         2\n",
            "                               CYLINDRICAL_SURFACE       0.00      0.00      0.00         7\n",
            "                                     DATE_AND_TIME       0.50      1.00      0.67         1\n",
            "                                    DATE_TIME_ROLE       0.00      0.00      0.00         1\n",
            "                                         DIRECTION       0.00      0.00      0.00       100\n",
            "                                        EDGE_CURVE       0.00      0.00      0.00        46\n",
            "                                         EDGE_LOOP       0.04      0.69      0.08        26\n",
            "                                        FACE_BOUND       0.00      0.00      0.00         4\n",
            "                                  FACE_OUTER_BOUND       0.36      0.62      0.46        21\n",
            "                                              LINE       0.16      0.68      0.25        31\n",
            "                                        LOCAL_TIME       0.00      0.00      0.00         4\n",
            "                               MANIFOLD_SOLID_BREP       0.00      0.00      0.00         1\n",
            "                                     ORIENTED_EDGE       0.00      0.00      0.00       106\n",
            "                           PERSON_AND_ORGANIZATION       0.00      0.00      0.00         3\n",
            "                                             PLANE       0.00      0.00      0.00        11\n",
            "                                           PRODUCT       0.00      0.00      0.00         1\n",
            "PRODUCT_DEFINITION_FORMATION_WITH_SPECIFIED_SOURCE       0.00      0.00      0.00         1\n",
            "                  PRODUCT_RELATED_PRODUCT_CATEGORY       0.00      0.00      0.00         1\n",
            "                                            VECTOR       0.00      0.00      0.00        27\n",
            "                                      VERTEX_POINT       0.00      0.00      0.00        35\n",
            "\n",
            "                                          accuracy                           0.09       609\n",
            "                                         macro avg       0.03      0.09      0.04       609\n",
            "                                      weighted avg       0.02      0.09      0.03       609\n",
            "\n"
          ]
        },
        {
          "output_type": "stream",
          "name": "stderr",
          "text": [
            "/usr/local/lib/python3.10/dist-packages/sklearn/metrics/_classification.py:1471: UndefinedMetricWarning: Precision and F-score are ill-defined and being set to 0.0 in labels with no predicted samples. Use `zero_division` parameter to control this behavior.\n",
            "  _warn_prf(average, modifier, msg_start, len(result))\n",
            "/usr/local/lib/python3.10/dist-packages/sklearn/metrics/_classification.py:1471: UndefinedMetricWarning: Recall and F-score are ill-defined and being set to 0.0 in labels with no true samples. Use `zero_division` parameter to control this behavior.\n",
            "  _warn_prf(average, modifier, msg_start, len(result))\n",
            "/usr/local/lib/python3.10/dist-packages/sklearn/metrics/_classification.py:1471: UndefinedMetricWarning: Precision and F-score are ill-defined and being set to 0.0 in labels with no predicted samples. Use `zero_division` parameter to control this behavior.\n",
            "  _warn_prf(average, modifier, msg_start, len(result))\n",
            "/usr/local/lib/python3.10/dist-packages/sklearn/metrics/_classification.py:1471: UndefinedMetricWarning: Recall and F-score are ill-defined and being set to 0.0 in labels with no true samples. Use `zero_division` parameter to control this behavior.\n",
            "  _warn_prf(average, modifier, msg_start, len(result))\n",
            "/usr/local/lib/python3.10/dist-packages/sklearn/metrics/_classification.py:1471: UndefinedMetricWarning: Precision and F-score are ill-defined and being set to 0.0 in labels with no predicted samples. Use `zero_division` parameter to control this behavior.\n",
            "  _warn_prf(average, modifier, msg_start, len(result))\n",
            "/usr/local/lib/python3.10/dist-packages/sklearn/metrics/_classification.py:1471: UndefinedMetricWarning: Recall and F-score are ill-defined and being set to 0.0 in labels with no true samples. Use `zero_division` parameter to control this behavior.\n",
            "  _warn_prf(average, modifier, msg_start, len(result))\n"
          ]
        }
      ]
    },
    {
      "cell_type": "code",
      "source": [
        "TP = cm[0,0]\n",
        "TN = cm[1,1]\n",
        "FP = cm[0,1]\n",
        "FN = cm[1,0]"
      ],
      "metadata": {
        "id": "CaXozob1o32r"
      },
      "execution_count": 24,
      "outputs": []
    },
    {
      "cell_type": "code",
      "source": [
        "# print classification accuracy\n",
        "\n",
        "classification_accuracy = (TP + TN) / float(TP + TN + FP + FN)\n",
        "\n",
        "print('Classification accuracy : {0:0.4f}'.format(classification_accuracy))"
      ],
      "metadata": {
        "colab": {
          "base_uri": "https://localhost:8080/"
        },
        "id": "QEC5_7sFo5mE",
        "outputId": "952f69de-7f8f-483f-813a-373e8fd145bc"
      },
      "execution_count": 25,
      "outputs": [
        {
          "output_type": "stream",
          "name": "stdout",
          "text": [
            "Classification accuracy : nan\n"
          ]
        },
        {
          "output_type": "stream",
          "name": "stderr",
          "text": [
            "<ipython-input-25-56c129a01939>:3: RuntimeWarning: invalid value encountered in divide\n",
            "  classification_accuracy = (TP + TN) / float(TP + TN + FP + FN)\n"
          ]
        }
      ]
    },
    {
      "cell_type": "code",
      "source": [
        "# print classification error\n",
        "\n",
        "classification_error = (FP + FN) / float(TP + TN + FP + FN)\n",
        "\n",
        "print('Classification error : {0:0.4f}'.format(classification_error))"
      ],
      "metadata": {
        "colab": {
          "base_uri": "https://localhost:8080/"
        },
        "id": "tP4IvOknpAjl",
        "outputId": "44edee11-6e4b-4f60-c165-5f19582ca938"
      },
      "execution_count": 26,
      "outputs": [
        {
          "output_type": "stream",
          "name": "stdout",
          "text": [
            "Classification error : nan\n"
          ]
        },
        {
          "output_type": "stream",
          "name": "stderr",
          "text": [
            "<ipython-input-26-fd030162d487>:3: RuntimeWarning: invalid value encountered in divide\n",
            "  classification_error = (FP + FN) / float(TP + TN + FP + FN)\n"
          ]
        }
      ]
    },
    {
      "cell_type": "code",
      "source": [
        "# print precision score\n",
        "\n",
        "precision = TP / float(TP + FP)\n",
        "\n",
        "\n",
        "print('Precision : {0:0.4f}'.format(precision))"
      ],
      "metadata": {
        "colab": {
          "base_uri": "https://localhost:8080/"
        },
        "id": "Q6hflbD8pFyt",
        "outputId": "92429043-8f3c-4406-f5c4-73885330b0b6"
      },
      "execution_count": 27,
      "outputs": [
        {
          "output_type": "stream",
          "name": "stdout",
          "text": [
            "Precision : nan\n"
          ]
        },
        {
          "output_type": "stream",
          "name": "stderr",
          "text": [
            "<ipython-input-27-14528085cc28>:3: RuntimeWarning: invalid value encountered in divide\n",
            "  precision = TP / float(TP + FP)\n"
          ]
        }
      ]
    },
    {
      "cell_type": "code",
      "source": [
        "recall = TP / float(TP + FN)\n",
        "\n",
        "print('Recall or Sensitivity : {0:0.4f}'.format(recall))"
      ],
      "metadata": {
        "colab": {
          "base_uri": "https://localhost:8080/"
        },
        "id": "TmxjMUmwpLp9",
        "outputId": "c0074f9c-bf10-49d3-9aa7-d6699f52ebbe"
      },
      "execution_count": 28,
      "outputs": [
        {
          "output_type": "stream",
          "name": "stdout",
          "text": [
            "Recall or Sensitivity : nan\n"
          ]
        },
        {
          "output_type": "stream",
          "name": "stderr",
          "text": [
            "<ipython-input-28-4541e477f8ab>:1: RuntimeWarning: invalid value encountered in divide\n",
            "  recall = TP / float(TP + FN)\n"
          ]
        }
      ]
    },
    {
      "cell_type": "code",
      "source": [
        "specificity = TN / (TN + FP)\n",
        "\n",
        "print('Specificity : {0:0.4f}'.format(specificity))"
      ],
      "metadata": {
        "colab": {
          "base_uri": "https://localhost:8080/"
        },
        "id": "1j-XOulOpSSn",
        "outputId": "1db9a2bb-aede-4f6c-9e4e-2c86c08f0655"
      },
      "execution_count": 29,
      "outputs": [
        {
          "output_type": "stream",
          "name": "stdout",
          "text": [
            "Specificity : nan\n"
          ]
        },
        {
          "output_type": "stream",
          "name": "stderr",
          "text": [
            "<ipython-input-29-d9fdb34c59d3>:1: RuntimeWarning: invalid value encountered in scalar divide\n",
            "  specificity = TN / (TN + FP)\n"
          ]
        }
      ]
    },
    {
      "cell_type": "code",
      "source": [
        "# print the first 10 predicted probabilities of two classes- 0 and 1\n",
        "\n",
        "y_pred_prob = gnb.predict_proba(X_test)[0:10]\n",
        "\n",
        "y_pred_prob"
      ],
      "metadata": {
        "colab": {
          "base_uri": "https://localhost:8080/"
        },
        "id": "CTEWAlIbpccA",
        "outputId": "0369f5e3-46a4-406a-d412-62736691575e"
      },
      "execution_count": 30,
      "outputs": [
        {
          "output_type": "execute_result",
          "data": {
            "text/plain": [
              "array([[0., 0., 0., 0., 0., 0., 0., 0., 0., 0., 0., 0., 0., 0., 0., 0.,\n",
              "        0., 0., 0., 0., 0., 0., 0., 0., 0., 0., 0., 1., 0., 0., 0., 0.,\n",
              "        0., 0., 0., 0., 0., 0., 0., 0., 0., 0., 0., 0., 0., 0., 0.],\n",
              "       [0., 0., 0., 0., 0., 0., 0., 0., 0., 0., 0., 0., 0., 0., 0., 0.,\n",
              "        0., 0., 0., 0., 0., 0., 0., 0., 0., 0., 0., 0., 0., 1., 0., 0.,\n",
              "        0., 0., 0., 0., 0., 0., 0., 0., 0., 0., 0., 0., 0., 0., 0.],\n",
              "       [0., 0., 0., 0., 0., 0., 0., 0., 0., 0., 0., 0., 0., 0., 0., 0.,\n",
              "        0., 0., 0., 0., 0., 0., 0., 0., 0., 0., 0., 1., 0., 0., 0., 0.,\n",
              "        0., 0., 0., 0., 0., 0., 0., 0., 0., 0., 0., 0., 0., 0., 0.],\n",
              "       [0., 0., 0., 0., 0., 0., 0., 0., 0., 0., 0., 0., 0., 0., 0., 0.,\n",
              "        0., 0., 0., 0., 0., 0., 0., 0., 0., 0., 0., 1., 0., 0., 0., 0.,\n",
              "        0., 0., 0., 0., 0., 0., 0., 0., 0., 0., 0., 0., 0., 0., 0.],\n",
              "       [0., 0., 0., 0., 0., 0., 0., 0., 0., 0., 0., 0., 0., 0., 0., 0.,\n",
              "        0., 0., 0., 0., 0., 0., 0., 0., 0., 0., 0., 1., 0., 0., 0., 0.,\n",
              "        0., 0., 0., 0., 0., 0., 0., 0., 0., 0., 0., 0., 0., 0., 0.],\n",
              "       [0., 0., 0., 0., 0., 0., 0., 0., 0., 0., 0., 0., 0., 0., 0., 0.,\n",
              "        0., 0., 0., 0., 0., 0., 0., 0., 0., 0., 0., 1., 0., 0., 0., 0.,\n",
              "        0., 0., 0., 0., 0., 0., 0., 0., 0., 0., 0., 0., 0., 0., 0.],\n",
              "       [0., 0., 0., 0., 0., 0., 0., 0., 0., 0., 0., 0., 0., 0., 0., 0.,\n",
              "        0., 0., 0., 0., 0., 0., 0., 0., 0., 0., 0., 1., 0., 0., 0., 0.,\n",
              "        0., 0., 0., 0., 0., 0., 0., 0., 0., 0., 0., 0., 0., 0., 0.],\n",
              "       [0., 0., 0., 0., 0., 0., 0., 0., 0., 0., 0., 0., 0., 0., 0., 0.,\n",
              "        0., 0., 0., 0., 0., 0., 0., 0., 0., 0., 0., 1., 0., 0., 0., 0.,\n",
              "        0., 0., 0., 0., 0., 0., 0., 0., 0., 0., 0., 0., 0., 0., 0.],\n",
              "       [0., 0., 0., 0., 0., 0., 0., 0., 0., 0., 0., 0., 0., 0., 0., 0.,\n",
              "        0., 0., 0., 0., 0., 0., 0., 0., 0., 0., 0., 0., 0., 0., 1., 0.,\n",
              "        0., 0., 0., 0., 0., 0., 0., 0., 0., 0., 0., 0., 0., 0., 0.],\n",
              "       [0., 0., 0., 0., 0., 0., 0., 0., 0., 0., 0., 0., 0., 0., 0., 0.,\n",
              "        0., 0., 0., 0., 0., 0., 0., 0., 0., 0., 0., 1., 0., 0., 0., 0.,\n",
              "        0., 0., 0., 0., 0., 0., 0., 0., 0., 0., 0., 0., 0., 0., 0.]])"
            ]
          },
          "metadata": {},
          "execution_count": 30
        }
      ]
    },
    {
      "cell_type": "code",
      "source": [
        "# store the probabilities in dataframe\n",
        "\n",
        "y_pred_prob_df = pd.DataFrame(data=y_pred_prob, columns=['Prob of - <=50K', 'Prob of - >50K'])\n",
        "\n",
        "y_pred_prob_df"
      ],
      "metadata": {
        "colab": {
          "base_uri": "https://localhost:8080/",
          "height": 369
        },
        "id": "o2LTcCAppeP4",
        "outputId": "6e0b34ad-10c9-492f-ce74-b83ffc49c94d"
      },
      "execution_count": 31,
      "outputs": [
        {
          "output_type": "error",
          "ename": "ValueError",
          "evalue": "Shape of passed values is (10, 47), indices imply (10, 2)",
          "traceback": [
            "\u001b[0;31m---------------------------------------------------------------------------\u001b[0m",
            "\u001b[0;31mValueError\u001b[0m                                Traceback (most recent call last)",
            "\u001b[0;32m<ipython-input-31-d2de4a726457>\u001b[0m in \u001b[0;36m<cell line: 3>\u001b[0;34m()\u001b[0m\n\u001b[1;32m      1\u001b[0m \u001b[0;31m# store the probabilities in dataframe\u001b[0m\u001b[0;34m\u001b[0m\u001b[0;34m\u001b[0m\u001b[0m\n\u001b[1;32m      2\u001b[0m \u001b[0;34m\u001b[0m\u001b[0m\n\u001b[0;32m----> 3\u001b[0;31m \u001b[0my_pred_prob_df\u001b[0m \u001b[0;34m=\u001b[0m \u001b[0mpd\u001b[0m\u001b[0;34m.\u001b[0m\u001b[0mDataFrame\u001b[0m\u001b[0;34m(\u001b[0m\u001b[0mdata\u001b[0m\u001b[0;34m=\u001b[0m\u001b[0my_pred_prob\u001b[0m\u001b[0;34m,\u001b[0m \u001b[0mcolumns\u001b[0m\u001b[0;34m=\u001b[0m\u001b[0;34m[\u001b[0m\u001b[0;34m'Prob of - <=50K'\u001b[0m\u001b[0;34m,\u001b[0m \u001b[0;34m'Prob of - >50K'\u001b[0m\u001b[0;34m]\u001b[0m\u001b[0;34m)\u001b[0m\u001b[0;34m\u001b[0m\u001b[0;34m\u001b[0m\u001b[0m\n\u001b[0m\u001b[1;32m      4\u001b[0m \u001b[0;34m\u001b[0m\u001b[0m\n\u001b[1;32m      5\u001b[0m \u001b[0my_pred_prob_df\u001b[0m\u001b[0;34m\u001b[0m\u001b[0;34m\u001b[0m\u001b[0m\n",
            "\u001b[0;32m/usr/local/lib/python3.10/dist-packages/pandas/core/frame.py\u001b[0m in \u001b[0;36m__init__\u001b[0;34m(self, data, index, columns, dtype, copy)\u001b[0m\n\u001b[1;32m    780\u001b[0m                 )\n\u001b[1;32m    781\u001b[0m             \u001b[0;32melse\u001b[0m\u001b[0;34m:\u001b[0m\u001b[0;34m\u001b[0m\u001b[0;34m\u001b[0m\u001b[0m\n\u001b[0;32m--> 782\u001b[0;31m                 mgr = ndarray_to_mgr(\n\u001b[0m\u001b[1;32m    783\u001b[0m                     \u001b[0mdata\u001b[0m\u001b[0;34m,\u001b[0m\u001b[0;34m\u001b[0m\u001b[0;34m\u001b[0m\u001b[0m\n\u001b[1;32m    784\u001b[0m                     \u001b[0mindex\u001b[0m\u001b[0;34m,\u001b[0m\u001b[0;34m\u001b[0m\u001b[0;34m\u001b[0m\u001b[0m\n",
            "\u001b[0;32m/usr/local/lib/python3.10/dist-packages/pandas/core/internals/construction.py\u001b[0m in \u001b[0;36mndarray_to_mgr\u001b[0;34m(values, index, columns, dtype, copy, typ)\u001b[0m\n\u001b[1;32m    334\u001b[0m     )\n\u001b[1;32m    335\u001b[0m \u001b[0;34m\u001b[0m\u001b[0m\n\u001b[0;32m--> 336\u001b[0;31m     \u001b[0m_check_values_indices_shape_match\u001b[0m\u001b[0;34m(\u001b[0m\u001b[0mvalues\u001b[0m\u001b[0;34m,\u001b[0m \u001b[0mindex\u001b[0m\u001b[0;34m,\u001b[0m \u001b[0mcolumns\u001b[0m\u001b[0;34m)\u001b[0m\u001b[0;34m\u001b[0m\u001b[0;34m\u001b[0m\u001b[0m\n\u001b[0m\u001b[1;32m    337\u001b[0m \u001b[0;34m\u001b[0m\u001b[0m\n\u001b[1;32m    338\u001b[0m     \u001b[0;32mif\u001b[0m \u001b[0mtyp\u001b[0m \u001b[0;34m==\u001b[0m \u001b[0;34m\"array\"\u001b[0m\u001b[0;34m:\u001b[0m\u001b[0;34m\u001b[0m\u001b[0;34m\u001b[0m\u001b[0m\n",
            "\u001b[0;32m/usr/local/lib/python3.10/dist-packages/pandas/core/internals/construction.py\u001b[0m in \u001b[0;36m_check_values_indices_shape_match\u001b[0;34m(values, index, columns)\u001b[0m\n\u001b[1;32m    418\u001b[0m         \u001b[0mpassed\u001b[0m \u001b[0;34m=\u001b[0m \u001b[0mvalues\u001b[0m\u001b[0;34m.\u001b[0m\u001b[0mshape\u001b[0m\u001b[0;34m\u001b[0m\u001b[0;34m\u001b[0m\u001b[0m\n\u001b[1;32m    419\u001b[0m         \u001b[0mimplied\u001b[0m \u001b[0;34m=\u001b[0m \u001b[0;34m(\u001b[0m\u001b[0mlen\u001b[0m\u001b[0;34m(\u001b[0m\u001b[0mindex\u001b[0m\u001b[0;34m)\u001b[0m\u001b[0;34m,\u001b[0m \u001b[0mlen\u001b[0m\u001b[0;34m(\u001b[0m\u001b[0mcolumns\u001b[0m\u001b[0;34m)\u001b[0m\u001b[0;34m)\u001b[0m\u001b[0;34m\u001b[0m\u001b[0;34m\u001b[0m\u001b[0m\n\u001b[0;32m--> 420\u001b[0;31m         \u001b[0;32mraise\u001b[0m \u001b[0mValueError\u001b[0m\u001b[0;34m(\u001b[0m\u001b[0;34mf\"Shape of passed values is {passed}, indices imply {implied}\"\u001b[0m\u001b[0;34m)\u001b[0m\u001b[0;34m\u001b[0m\u001b[0;34m\u001b[0m\u001b[0m\n\u001b[0m\u001b[1;32m    421\u001b[0m \u001b[0;34m\u001b[0m\u001b[0m\n\u001b[1;32m    422\u001b[0m \u001b[0;34m\u001b[0m\u001b[0m\n",
            "\u001b[0;31mValueError\u001b[0m: Shape of passed values is (10, 47), indices imply (10, 2)"
          ]
        }
      ]
    },
    {
      "cell_type": "code",
      "source": [
        "# print the first 10 predicted probabilities for class 1 - Probability of >50K\n",
        "\n",
        "gnb.predict_proba(X_test)[0:10, 1]"
      ],
      "metadata": {
        "colab": {
          "base_uri": "https://localhost:8080/"
        },
        "id": "YPdr7o6fpgqI",
        "outputId": "f8e5d27c-f80c-433e-edd4-28dcca17613d"
      },
      "execution_count": 32,
      "outputs": [
        {
          "output_type": "execute_result",
          "data": {
            "text/plain": [
              "array([0., 0., 0., 0., 0., 0., 0., 0., 0., 0.])"
            ]
          },
          "metadata": {},
          "execution_count": 32
        }
      ]
    },
    {
      "cell_type": "code",
      "source": [
        "# store the predicted probabilities for class 1 - Probability of >50K\n",
        "\n",
        "y_pred1 = gnb.predict_proba(X_test)[:, 1]"
      ],
      "metadata": {
        "id": "GT1Ftf1jpicx"
      },
      "execution_count": 33,
      "outputs": []
    },
    {
      "cell_type": "code",
      "source": [
        "import matplotlib.pyplot as plt"
      ],
      "metadata": {
        "id": "xXrrDEOJpqcx"
      },
      "execution_count": 35,
      "outputs": []
    },
    {
      "cell_type": "code",
      "source": [
        "# plot histogram of predicted probabilities\n",
        "\n",
        "\n",
        "# adjust the font size\n",
        "plt.rcParams['font.size'] = 12\n",
        "\n",
        "\n",
        "# plot histogram with 10 bins\n",
        "plt.hist(y_pred1, bins = 10)\n",
        "\n",
        "\n",
        "# set the title of predicted probabilities\n",
        "plt.title('Histogram of predicted Entities')\n",
        "\n",
        "\n",
        "# set the x-axis limit\n",
        "plt.xlim(0,1)\n",
        "\n",
        "\n",
        "# set the title\n",
        "plt.xlabel('Predicted probabilities of Entities')\n",
        "plt.ylabel('Frequency')"
      ],
      "metadata": {
        "colab": {
          "base_uri": "https://localhost:8080/",
          "height": 499
        },
        "id": "eiv8gdYmpk4o",
        "outputId": "5eb90044-8cb4-454d-f1c7-63748378e615"
      },
      "execution_count": 37,
      "outputs": [
        {
          "output_type": "execute_result",
          "data": {
            "text/plain": [
              "Text(0, 0.5, 'Frequency')"
            ]
          },
          "metadata": {},
          "execution_count": 37
        },
        {
          "output_type": "display_data",
          "data": {
            "text/plain": [
              "<Figure size 640x480 with 1 Axes>"
            ],
            "image/png": "[encoded data removed]"
          },
          "metadata": {}
        }
      ]
    },
    {
      "cell_type": "code",
      "source": [
        "# plot ROC Curve\n",
        "\n",
        "from sklearn.metrics import roc_curve\n",
        "\n",
        "fpr, tpr, thresholds = roc_curve(y_test, y_pred1, pos_label = '>50K')\n",
        "\n",
        "plt.figure(figsize=(6,4))\n",
        "\n",
        "plt.plot(fpr, tpr, linewidth=2)\n",
        "\n",
        "plt.plot([0,1], [0,1], 'k--' )\n",
        "\n",
        "plt.rcParams['font.size'] = 12\n",
        "\n",
        "plt.title('ROC curve for Gaussian Naive Bayes Classifier for Predicting Entities')\n",
        "\n",
        "plt.xlabel('False Positive Rate (1 - Specificity)')\n",
        "\n",
        "plt.ylabel('True Positive Rate (Sensitivity)')\n",
        "\n",
        "plt.show()"
      ],
      "metadata": {
        "colab": {
          "base_uri": "https://localhost:8080/",
          "height": 455
        },
        "id": "BANk0Pr_p75j",
        "outputId": "d57cb0d4-dfef-4885-ae32-d4a2a2648c4a"
      },
      "execution_count": 39,
      "outputs": [
        {
          "output_type": "stream",
          "name": "stderr",
          "text": [
            "/usr/local/lib/python3.10/dist-packages/sklearn/metrics/_ranking.py:1133: UndefinedMetricWarning: No positive samples in y_true, true positive value should be meaningless\n",
            "  warnings.warn(\n"
          ]
        },
        {
          "output_type": "display_data",
          "data": {
            "text/plain": [
              "<Figure size 600x400 with 1 Axes>"
            ],
            "image/png": "[encoded data removed]"
          },
          "metadata": {}
        }
      ]
    },
    {
      "cell_type": "code",
      "source": [
        "# compute ROC AUC\n",
        "\n",
        "from sklearn.metrics import roc_auc_score\n",
        "\n",
        "ROC_AUC = roc_auc_score(y_test, y_pred1)\n",
        "\n",
        "print('ROC AUC : {:.4f}'.format(ROC_AUC))"
      ],
      "metadata": {
        "colab": {
          "base_uri": "https://localhost:8080/",
          "height": 369
        },
        "id": "vGiGJQYsqHC1",
        "outputId": "d7ad3b8e-a55a-4d2f-dbe4-587040802681"
      },
      "execution_count": 40,
      "outputs": [
        {
          "output_type": "error",
          "ename": "ValueError",
          "evalue": "multi_class must be in ('ovo', 'ovr')",
          "traceback": [
            "\u001b[0;31m---------------------------------------------------------------------------\u001b[0m",
            "\u001b[0;31mValueError\u001b[0m                                Traceback (most recent call last)",
            "\u001b[0;32m<ipython-input-40-c527e0313111>\u001b[0m in \u001b[0;36m<cell line: 5>\u001b[0;34m()\u001b[0m\n\u001b[1;32m      3\u001b[0m \u001b[0;32mfrom\u001b[0m \u001b[0msklearn\u001b[0m\u001b[0;34m.\u001b[0m\u001b[0mmetrics\u001b[0m \u001b[0;32mimport\u001b[0m \u001b[0mroc_auc_score\u001b[0m\u001b[0;34m\u001b[0m\u001b[0;34m\u001b[0m\u001b[0m\n\u001b[1;32m      4\u001b[0m \u001b[0;34m\u001b[0m\u001b[0m\n\u001b[0;32m----> 5\u001b[0;31m \u001b[0mROC_AUC\u001b[0m \u001b[0;34m=\u001b[0m \u001b[0mroc_auc_score\u001b[0m\u001b[0;34m(\u001b[0m\u001b[0my_test\u001b[0m\u001b[0;34m,\u001b[0m \u001b[0my_pred1\u001b[0m\u001b[0;34m)\u001b[0m\u001b[0;34m\u001b[0m\u001b[0;34m\u001b[0m\u001b[0m\n\u001b[0m\u001b[1;32m      6\u001b[0m \u001b[0;34m\u001b[0m\u001b[0m\n\u001b[1;32m      7\u001b[0m \u001b[0mprint\u001b[0m\u001b[0;34m(\u001b[0m\u001b[0;34m'ROC AUC : {:.4f}'\u001b[0m\u001b[0;34m.\u001b[0m\u001b[0mformat\u001b[0m\u001b[0;34m(\u001b[0m\u001b[0mROC_AUC\u001b[0m\u001b[0;34m)\u001b[0m\u001b[0;34m)\u001b[0m\u001b[0;34m\u001b[0m\u001b[0;34m\u001b[0m\u001b[0m\n",
            "\u001b[0;32m/usr/local/lib/python3.10/dist-packages/sklearn/utils/_param_validation.py\u001b[0m in \u001b[0;36mwrapper\u001b[0;34m(*args, **kwargs)\u001b[0m\n\u001b[1;32m    212\u001b[0m                     )\n\u001b[1;32m    213\u001b[0m                 ):\n\u001b[0;32m--> 214\u001b[0;31m                     \u001b[0;32mreturn\u001b[0m \u001b[0mfunc\u001b[0m\u001b[0;34m(\u001b[0m\u001b[0;34m*\u001b[0m\u001b[0margs\u001b[0m\u001b[0;34m,\u001b[0m \u001b[0;34m**\u001b[0m\u001b[0mkwargs\u001b[0m\u001b[0;34m)\u001b[0m\u001b[0;34m\u001b[0m\u001b[0;34m\u001b[0m\u001b[0m\n\u001b[0m\u001b[1;32m    215\u001b[0m             \u001b[0;32mexcept\u001b[0m \u001b[0mInvalidParameterError\u001b[0m \u001b[0;32mas\u001b[0m \u001b[0me\u001b[0m\u001b[0;34m:\u001b[0m\u001b[0;34m\u001b[0m\u001b[0;34m\u001b[0m\u001b[0m\n\u001b[1;32m    216\u001b[0m                 \u001b[0;31m# When the function is just a wrapper around an estimator, we allow\u001b[0m\u001b[0;34m\u001b[0m\u001b[0;34m\u001b[0m\u001b[0m\n",
            "\u001b[0;32m/usr/local/lib/python3.10/dist-packages/sklearn/metrics/_ranking.py\u001b[0m in \u001b[0;36mroc_auc_score\u001b[0;34m(y_true, y_score, average, sample_weight, max_fpr, multi_class, labels)\u001b[0m\n\u001b[1;32m    618\u001b[0m             )\n\u001b[1;32m    619\u001b[0m         \u001b[0;32mif\u001b[0m \u001b[0mmulti_class\u001b[0m \u001b[0;34m==\u001b[0m \u001b[0;34m\"raise\"\u001b[0m\u001b[0;34m:\u001b[0m\u001b[0;34m\u001b[0m\u001b[0;34m\u001b[0m\u001b[0m\n\u001b[0;32m--> 620\u001b[0;31m             \u001b[0;32mraise\u001b[0m \u001b[0mValueError\u001b[0m\u001b[0;34m(\u001b[0m\u001b[0;34m\"multi_class must be in ('ovo', 'ovr')\"\u001b[0m\u001b[0;34m)\u001b[0m\u001b[0;34m\u001b[0m\u001b[0;34m\u001b[0m\u001b[0m\n\u001b[0m\u001b[1;32m    621\u001b[0m         return _multiclass_roc_auc_score(\n\u001b[1;32m    622\u001b[0m             \u001b[0my_true\u001b[0m\u001b[0;34m,\u001b[0m \u001b[0my_score\u001b[0m\u001b[0;34m,\u001b[0m \u001b[0mlabels\u001b[0m\u001b[0;34m,\u001b[0m \u001b[0mmulti_class\u001b[0m\u001b[0;34m,\u001b[0m \u001b[0maverage\u001b[0m\u001b[0;34m,\u001b[0m \u001b[0msample_weight\u001b[0m\u001b[0;34m\u001b[0m\u001b[0;34m\u001b[0m\u001b[0m\n",
            "\u001b[0;31mValueError\u001b[0m: multi_class must be in ('ovo', 'ovr')"
          ]
        }
      ]
    }
  ]
}